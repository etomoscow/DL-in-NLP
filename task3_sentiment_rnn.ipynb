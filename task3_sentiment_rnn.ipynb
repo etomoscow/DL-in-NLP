{
  "nbformat": 4,
  "nbformat_minor": 0,
  "metadata": {
    "kernelspec": {
      "name": "python3",
      "display_name": "Python 3"
    },
    "language_info": {
      "codemirror_mode": {
        "name": "ipython",
        "version": 3
      },
      "file_extension": ".py",
      "mimetype": "text/x-python",
      "name": "python",
      "nbconvert_exporter": "python",
      "pygments_lexer": "ipython3",
      "version": "3.6.9"
    },
    "colab": {
      "name": "task3_sentiment_rnn.ipynb",
      "provenance": [],
      "collapsed_sections": [],
      "include_colab_link": true
    },
    "accelerator": "GPU"
  },
  "cells": [
    {
      "cell_type": "markdown",
      "metadata": {
        "id": "view-in-github",
        "colab_type": "text"
      },
      "source": [
        "<a href=\"https://colab.research.google.com/github/etomoscow/DL-in-NLP/blob/master/task3_sentiment_rnn.ipynb\" target=\"_parent\"><img src=\"https://colab.research.google.com/assets/colab-badge.svg\" alt=\"Open In Colab\"/></a>"
      ]
    },
    {
      "cell_type": "markdown",
      "metadata": {
        "id": "uaZ_Hu55nKnN",
        "colab_type": "text"
      },
      "source": [
        "## Assignment 2.3: Text classification via RNN (30 points)"
      ]
    },
    {
      "cell_type": "markdown",
      "metadata": {
        "id": "8qKsSbI4nKnO",
        "colab_type": "text"
      },
      "source": [
        "In this assignment you will perform sentiment analysis of the IMDBs reviews by using RNN. An additional goal is to learn high abstactions of the **torchtext** module that consists of data processing utilities and popular datasets for natural language."
      ]
    },
    {
      "cell_type": "code",
      "metadata": {
        "id": "_qXAer64nKnP",
        "colab_type": "code",
        "colab": {}
      },
      "source": [
        "import pandas as pd\n",
        "import numpy as np\n",
        "import torch, random, re\n",
        "\n",
        "from torchtext import datasets\n",
        "\n",
        "from torchtext.data import Field, LabelField\n",
        "from torchtext.data import BucketIterator\n",
        "from torch.autograd import Variable\n",
        "\n",
        "import torch.nn as nn\n",
        "import torch.nn.functional as F\n",
        "import torch.optim as optim\n",
        "\n",
        "\n",
        "SEED = 42\n",
        "random.seed(SEED)\n",
        "np.random.seed(SEED)\n",
        "torch.manual_seed(SEED)\n",
        "torch.backends.cudnn.deterministic = True"
      ],
      "execution_count": 0,
      "outputs": []
    },
    {
      "cell_type": "markdown",
      "metadata": {
        "id": "O7Q8cgUenKnU",
        "colab_type": "text"
      },
      "source": [
        "### Preparing Data"
      ]
    },
    {
      "cell_type": "code",
      "metadata": {
        "id": "viDxfSYonKnV",
        "colab_type": "code",
        "colab": {}
      },
      "source": [
        "TEXT = Field(sequential=True, lower=True)\n",
        "LABEL = LabelField()"
      ],
      "execution_count": 0,
      "outputs": []
    },
    {
      "cell_type": "code",
      "metadata": {
        "id": "fWlzav3unKnZ",
        "colab_type": "code",
        "outputId": "77feaef6-9646-4284-f4c2-c7864aba7507",
        "colab": {
          "base_uri": "https://localhost:8080/",
          "height": 50
        }
      },
      "source": [
        "train, tst = datasets.IMDB.splits(TEXT, LABEL)\n",
        "trn, vld = train.split()"
      ],
      "execution_count": 3,
      "outputs": [
        {
          "output_type": "stream",
          "text": [
            "aclImdb_v1.tar.gz:   0%|          | 180k/84.1M [00:00<00:51, 1.61MB/s]"
          ],
          "name": "stderr"
        },
        {
          "output_type": "stream",
          "text": [
            "downloading aclImdb_v1.tar.gz\n"
          ],
          "name": "stdout"
        },
        {
          "output_type": "stream",
          "text": [
            "aclImdb_v1.tar.gz: 100%|██████████| 84.1M/84.1M [00:01<00:00, 69.4MB/s]\n"
          ],
          "name": "stderr"
        }
      ]
    },
    {
      "cell_type": "code",
      "metadata": {
        "id": "EHvxzDatnKnd",
        "colab_type": "code",
        "outputId": "0aaeeef9-0c10-449b-99e7-26bb90737503",
        "colab": {
          "base_uri": "https://localhost:8080/",
          "height": 50
        }
      },
      "source": [
        "%%time\n",
        "TEXT.build_vocab(trn)"
      ],
      "execution_count": 4,
      "outputs": [
        {
          "output_type": "stream",
          "text": [
            "CPU times: user 1.22 s, sys: 31.2 ms, total: 1.25 s\n",
            "Wall time: 1.25 s\n"
          ],
          "name": "stdout"
        }
      ]
    },
    {
      "cell_type": "code",
      "metadata": {
        "id": "84DN1eiinKng",
        "colab_type": "code",
        "colab": {}
      },
      "source": [
        "LABEL.build_vocab(trn)"
      ],
      "execution_count": 0,
      "outputs": []
    },
    {
      "cell_type": "markdown",
      "metadata": {
        "id": "v76L-2FJnKnj",
        "colab_type": "text"
      },
      "source": [
        "The vocab.freqs is a collections.Counter object, so we can take a look at the most frequent words."
      ]
    },
    {
      "cell_type": "code",
      "metadata": {
        "id": "ARfRVsKjnKnk",
        "colab_type": "code",
        "outputId": "b7fa07c3-60cb-497a-d037-58badf7b1bf6",
        "colab": {
          "base_uri": "https://localhost:8080/",
          "height": 185
        }
      },
      "source": [
        "TEXT.vocab.freqs.most_common(10)"
      ],
      "execution_count": 6,
      "outputs": [
        {
          "output_type": "execute_result",
          "data": {
            "text/plain": [
              "[('the', 225091),\n",
              " ('a', 111625),\n",
              " ('and', 111043),\n",
              " ('of', 100762),\n",
              " ('to', 93260),\n",
              " ('is', 72958),\n",
              " ('in', 63223),\n",
              " ('i', 49184),\n",
              " ('this', 48810),\n",
              " ('that', 46199)]"
            ]
          },
          "metadata": {
            "tags": []
          },
          "execution_count": 6
        }
      ]
    },
    {
      "cell_type": "markdown",
      "metadata": {
        "id": "UImUaZhTnKno",
        "colab_type": "text"
      },
      "source": [
        "### Creating the Iterator (2 points)"
      ]
    },
    {
      "cell_type": "markdown",
      "metadata": {
        "id": "0xpxqXO3nKnp",
        "colab_type": "text"
      },
      "source": [
        "During training, we'll be using a special kind of Iterator, called the **BucketIterator**. When we pass data into a neural network, we want the data to be padded to be the same length so that we can process them in batch:\n",
        "\n",
        "e.g.\n",
        "\\[ \n",
        "\\[3, 15, 2, 7\\],\n",
        "\\[4, 1\\], \n",
        "\\[5, 5, 6, 8, 1\\] \n",
        "\\] -> \\[ \n",
        "\\[3, 15, 2, 7, **0**\\],\n",
        "\\[4, 1, **0**, **0**, **0**\\], \n",
        "\\[5, 5, 6, 8, 1\\] \n",
        "\\] \n",
        "\n",
        "If the sequences differ greatly in length, the padding will consume a lot of wasteful memory and time. The BucketIterator groups sequences of similar lengths together for each batch to minimize padding.\n",
        "\n",
        "Complete the definition of the **BucketIterator** object"
      ]
    },
    {
      "cell_type": "code",
      "metadata": {
        "id": "gDuXQ3NcnKnq",
        "colab_type": "code",
        "colab": {}
      },
      "source": [
        "train_iter, val_iter, test_iter = BucketIterator.splits(\n",
        "        (trn, vld, tst),\n",
        "        batch_sizes=(64, 64, 64),\n",
        "        sort=False,\n",
        "        sort_key= lambda x: len(x[0]),# write your code here\n",
        "        sort_within_batch=False,\n",
        "        device='cuda',\n",
        "        repeat=False\n",
        ")"
      ],
      "execution_count": 0,
      "outputs": []
    },
    {
      "cell_type": "markdown",
      "metadata": {
        "id": "EeqrXOYNnKns",
        "colab_type": "text"
      },
      "source": [
        "Let's take a look at what the output of the BucketIterator looks like. Do not be suprised **batch_first=True**"
      ]
    },
    {
      "cell_type": "code",
      "metadata": {
        "id": "gxgnqbDWnKnt",
        "colab_type": "code",
        "outputId": "4e4ebe43-c879-405f-9c0e-17c02decf2e6",
        "colab": {
          "base_uri": "https://localhost:8080/",
          "height": 134
        }
      },
      "source": [
        "batch = next(train_iter.__iter__()); batch.text"
      ],
      "execution_count": 25,
      "outputs": [
        {
          "output_type": "execute_result",
          "data": {
            "text/plain": [
              "tensor([[   10,     9,    10,  ...,  3215,     2,    10],\n",
              "        [ 7086,    39,     7,  ..., 55230,  2370,    56],\n",
              "        [ 1576,  2005,     3,  ...,   267,     5,    26],\n",
              "        ...,\n",
              "        [    1,     1, 94419,  ...,     1,     1,     1],\n",
              "        [    1,     1,    13,  ...,     1,     1,     1],\n",
              "        [    1,     1,   704,  ...,     1,     1,     1]], device='cuda:0')"
            ]
          },
          "metadata": {
            "tags": []
          },
          "execution_count": 25
        }
      ]
    },
    {
      "cell_type": "markdown",
      "metadata": {
        "id": "8jFsnnQjnKnw",
        "colab_type": "text"
      },
      "source": [
        "The batch has all the fields we passed to the Dataset as attributes. The batch data can be accessed through the attribute with the same name."
      ]
    },
    {
      "cell_type": "code",
      "metadata": {
        "id": "5ww7wsBBnKnx",
        "colab_type": "code",
        "outputId": "176c12f4-57e2-4347-fef0-cff4b18052eb",
        "colab": {
          "base_uri": "https://localhost:8080/",
          "height": 34
        }
      },
      "source": [
        "batch.__dict__.keys()"
      ],
      "execution_count": 26,
      "outputs": [
        {
          "output_type": "execute_result",
          "data": {
            "text/plain": [
              "dict_keys(['batch_size', 'dataset', 'fields', 'input_fields', 'target_fields', 'text', 'label'])"
            ]
          },
          "metadata": {
            "tags": []
          },
          "execution_count": 26
        }
      ]
    },
    {
      "cell_type": "markdown",
      "metadata": {
        "id": "AUY-eIBJnKn0",
        "colab_type": "text"
      },
      "source": [
        "### Define the RNN-based text classification model (10 points)"
      ]
    },
    {
      "cell_type": "markdown",
      "metadata": {
        "id": "eseS-_GdnKn0",
        "colab_type": "text"
      },
      "source": [
        "Start simple first. Implement the model according to the shema below.  \n",
        "![alt text](https://miro.medium.com/max/1396/1*v-tLYQCsni550A-hznS0mw.jpeg)\n"
      ]
    },
    {
      "cell_type": "code",
      "metadata": {
        "id": "r72h5wzxnKn1",
        "colab_type": "code",
        "colab": {}
      },
      "source": [
        "class RNNBaseline(nn.Module):\n",
        "    def __init__(self, hidden_dim, emb_dim, vocab_size):\n",
        "        super().__init__()\n",
        "\n",
        "        self.hidden_dim = hidden_dim\n",
        "        self.emb_dim = emb_dim\n",
        "        self.vocab_size = vocab_size\n",
        "\n",
        "        self.encoder = nn.Embedding(vocab_size, emb_dim)\n",
        "        self.gru = nn.GRU(emb_dim, hidden_dim, bidirectional=True, batch_first=True, dropout=0.1)\n",
        "        self.decoder = nn.Linear(hidden_dim, 1)\n",
        "        self.sgm = nn.Sigmoid()\n",
        "\n",
        "    def forward(self, seq):\n",
        "        embs = self.encoder(seq.permute(1,0))\n",
        "        out, hidden = self.gru(embs)\n",
        "        out = self.decoder(hidden[-1])\n",
        "        preds = self.sgm(out)\n",
        "        return preds.squeeze(1)"
      ],
      "execution_count": 0,
      "outputs": []
    },
    {
      "cell_type": "code",
      "metadata": {
        "id": "hGPkZKS4nKn6",
        "colab_type": "code",
        "outputId": "5f3484fb-9476-4f30-a747-97b6501fc28e",
        "colab": {
          "base_uri": "https://localhost:8080/",
          "height": 171
        }
      },
      "source": [
        "em_sz = 200\n",
        "nh = 300\n",
        "model = RNNBaseline(hidden_dim = nh, emb_dim=em_sz, vocab_size=len(TEXT.vocab)); model"
      ],
      "execution_count": 29,
      "outputs": [
        {
          "output_type": "stream",
          "text": [
            "/usr/local/lib/python3.6/dist-packages/torch/nn/modules/rnn.py:50: UserWarning: dropout option adds dropout after all but last recurrent layer, so non-zero dropout expects num_layers greater than 1, but got dropout=0.1 and num_layers=1\n",
            "  \"num_layers={}\".format(dropout, num_layers))\n"
          ],
          "name": "stderr"
        },
        {
          "output_type": "execute_result",
          "data": {
            "text/plain": [
              "RNNBaseline(\n",
              "  (encoder): Embedding(202316, 200)\n",
              "  (gru): GRU(200, 300, batch_first=True, dropout=0.1, bidirectional=True)\n",
              "  (decoder): Linear(in_features=300, out_features=1, bias=True)\n",
              "  (sgm): Sigmoid()\n",
              ")"
            ]
          },
          "metadata": {
            "tags": []
          },
          "execution_count": 29
        }
      ]
    },
    {
      "cell_type": "markdown",
      "metadata": {
        "id": "mENKjcYInKn9",
        "colab_type": "text"
      },
      "source": [
        "If you're using a GPU, remember to call model.cuda() to move your model to the GPU."
      ]
    },
    {
      "cell_type": "code",
      "metadata": {
        "id": "Hxn-YJufnKn9",
        "colab_type": "code",
        "outputId": "65676985-a198-4904-f22e-03cfb4f04712",
        "colab": {
          "base_uri": "https://localhost:8080/",
          "height": 118
        }
      },
      "source": [
        "model.cuda()"
      ],
      "execution_count": 30,
      "outputs": [
        {
          "output_type": "execute_result",
          "data": {
            "text/plain": [
              "RNNBaseline(\n",
              "  (encoder): Embedding(202316, 200)\n",
              "  (gru): GRU(200, 300, batch_first=True, dropout=0.1, bidirectional=True)\n",
              "  (decoder): Linear(in_features=300, out_features=1, bias=True)\n",
              "  (sgm): Sigmoid()\n",
              ")"
            ]
          },
          "metadata": {
            "tags": []
          },
          "execution_count": 30
        }
      ]
    },
    {
      "cell_type": "markdown",
      "metadata": {
        "id": "LpTFiLDgnKoB",
        "colab_type": "text"
      },
      "source": [
        "### The training loop (3 points)"
      ]
    },
    {
      "cell_type": "markdown",
      "metadata": {
        "id": "LMiE3IBynKoB",
        "colab_type": "text"
      },
      "source": [
        "Define the optimization and the loss functions."
      ]
    },
    {
      "cell_type": "code",
      "metadata": {
        "id": "QVZ9mUjlnKoC",
        "colab_type": "code",
        "colab": {}
      },
      "source": [
        "opt = torch.optim.Adam(model.parameters(), lr=0.001)\n",
        "loss_func = nn.BCELoss(reduction='sum')"
      ],
      "execution_count": 0,
      "outputs": []
    },
    {
      "cell_type": "markdown",
      "metadata": {
        "id": "5HCqd4psnKoF",
        "colab_type": "text"
      },
      "source": [
        "Define the stopping criteria."
      ]
    },
    {
      "cell_type": "code",
      "metadata": {
        "id": "xMBjlDDKnKoF",
        "colab_type": "code",
        "colab": {}
      },
      "source": [
        "epochs = 3"
      ],
      "execution_count": 0,
      "outputs": []
    },
    {
      "cell_type": "code",
      "metadata": {
        "id": "FzmMiroonKoJ",
        "colab_type": "code",
        "outputId": "952d146b-d31d-413f-c26b-c8e7dfb6ea0c",
        "colab": {
          "base_uri": "https://localhost:8080/",
          "height": 101
        }
      },
      "source": [
        "%%time\n",
        "losses_train, losses_val = [], []\n",
        "for epoch in range(1, epochs + 1):\n",
        "    running_loss = 0.0\n",
        "    running_corrects = 0\n",
        "    model.train() \n",
        "    for batch in train_iter: \n",
        "        \n",
        "        x = batch.text\n",
        "        y = batch.label\n",
        "        opt.zero_grad()\n",
        "        preds = model(x)   \n",
        "        loss = loss_func(preds.to(dtype=torch.float32), y.to(dtype=torch.float32))\n",
        "        loss.backward()\n",
        "        opt.step()\n",
        "        running_loss += loss.item()\n",
        "\n",
        "    epoch_loss = running_loss / len(trn)\n",
        "    losses_train.append(epoch_loss)\n",
        "\n",
        "    val_loss = 0.0\n",
        "    model.eval()\n",
        "    for batch in val_iter:\n",
        "        with torch.no_grad():    \n",
        "            x = batch.text\n",
        "            y = batch.label\n",
        "        \n",
        "            preds = model(x) \n",
        "            loss = loss_func(preds.to(dtype=torch.float32), y.to(dtype=torch.float32))\n",
        "            val_loss += loss.item()\n",
        "    val_loss /= len(vld)\n",
        "    losses_val.append(val_loss)\n",
        "    print('Epoch: {}, Training Loss: {}, Validation Loss: {}'.format(epoch, epoch_loss, val_loss))"
      ],
      "execution_count": 36,
      "outputs": [
        {
          "output_type": "stream",
          "text": [
            "Epoch: 1, Training Loss: 0.6654339932032994, Validation Loss: 0.5614567089080811\n",
            "Epoch: 2, Training Loss: 0.40316899010794505, Validation Loss: 0.37331977961858115\n",
            "Epoch: 3, Training Loss: 0.18278401768548147, Validation Loss: 0.48776236561139424\n",
            "CPU times: user 1min 50s, sys: 36.1 s, total: 2min 26s\n",
            "Wall time: 2min 27s\n"
          ],
          "name": "stdout"
        }
      ]
    },
    {
      "cell_type": "code",
      "metadata": {
        "id": "hocOmddgYHM5",
        "colab_type": "code",
        "outputId": "a782c5be-c8f3-4f8b-c1c7-923473110d68",
        "colab": {
          "base_uri": "https://localhost:8080/",
          "height": 500
        }
      },
      "source": [
        "import matplotlib.pyplot as plt\n",
        "\n",
        "plt.figure(figsize=(12,8))\n",
        "plt.plot(losses_train, label='train')\n",
        "plt.plot(losses_val, label='val')\n",
        "plt.legend(loc='best')"
      ],
      "execution_count": 37,
      "outputs": [
        {
          "output_type": "execute_result",
          "data": {
            "text/plain": [
              "<matplotlib.legend.Legend at 0x7ff538f8d7b8>"
            ]
          },
          "metadata": {
            "tags": []
          },
          "execution_count": 37
        },
        {
          "output_type": "display_data",
          "data": {
            "image/png": "[encoded data removed]",
            "text/plain": [
              "<Figure size 864x576 with 1 Axes>"
            ]
          },
          "metadata": {
            "tags": []
          }
        }
      ]
    },
    {
      "cell_type": "markdown",
      "metadata": {
        "id": "hFVpsFr7nKoM",
        "colab_type": "text"
      },
      "source": [
        "### Calculate performance of the trained model (5 points)"
      ]
    },
    {
      "cell_type": "code",
      "metadata": {
        "id": "f5bWetWfHAdw",
        "colab_type": "code",
        "colab": {}
      },
      "source": [
        "from sklearn.metrics import f1_score, accuracy_score, precision_score, recall_score"
      ],
      "execution_count": 0,
      "outputs": []
    },
    {
      "cell_type": "code",
      "metadata": {
        "id": "x0ymPwgmnKoN",
        "colab_type": "code",
        "colab": {
          "base_uri": "https://localhost:8080/",
          "height": 154
        },
        "outputId": "e27af336-244c-4ca6-d26f-51c210a63010"
      },
      "source": [
        "for batch in test_iter:\n",
        "    accuracies, rcl, precs, f1s = [], [], [], []\n",
        "    model.eval()\n",
        "    x = batch.text\n",
        "    out = torch.round(model(x))\n",
        "    out = out.detach().cpu().numpy()\n",
        "    y = batch.label.to(torch.float32).detach().cpu().numpy()\n",
        "    accuracies.append(accuracy_score(out,y))\n",
        "    rcl.append(recall_score(out, y))\n",
        "    precs.append(precision_score(out, y))\n",
        "    f1s.append(f1_score(out, y))\n",
        "\n",
        "print('Accuracy score:{}, recall:{}, f1-score:{}, precision:{}'.format(np.mean(accuracies), np.mean(rcl), np.mean(f1s), np.mean(precs)))"
      ],
      "execution_count": 47,
      "outputs": [
        {
          "output_type": "stream",
          "text": [
            "/usr/local/lib/python3.6/dist-packages/sklearn/metrics/_classification.py:1272: UndefinedMetricWarning: Precision is ill-defined and being set to 0.0 due to no predicted samples. Use `zero_division` parameter to control this behavior.\n",
            "  _warn_prf(average, modifier, msg_start, len(result))\n",
            "/usr/local/lib/python3.6/dist-packages/sklearn/metrics/_classification.py:1272: UndefinedMetricWarning: Recall is ill-defined and being set to 0.0 due to no true samples. Use `zero_division` parameter to control this behavior.\n",
            "  _warn_prf(average, modifier, msg_start, len(result))\n",
            "/usr/local/lib/python3.6/dist-packages/sklearn/metrics/_classification.py:1515: UndefinedMetricWarning: F-score is ill-defined and being set to 0.0 due to no true nor predicted samples. Use `zero_division` parameter to control this behavior.\n",
            "  average, \"true nor predicted\", 'F-score is', len(true_sum)\n"
          ],
          "name": "stderr"
        },
        {
          "output_type": "stream",
          "text": [
            "Accuracy score:0.825, recall:1.0, f1-score:0.9041095890410958, precision:0.825\n"
          ],
          "name": "stdout"
        }
      ]
    },
    {
      "cell_type": "markdown",
      "metadata": {
        "id": "TvaC-brBnKoQ",
        "colab_type": "text"
      },
      "source": [
        "Write down the calculated performance\n",
        "\n",
        "### Accuracy: 0.825\n",
        "### Precision:0.825\n",
        "### Recall: 0.825\n",
        "### F1: 0.904"
      ]
    },
    {
      "cell_type": "markdown",
      "metadata": {
        "id": "YsLfKVMlnKoR",
        "colab_type": "text"
      },
      "source": [
        "### Experiments (10 points)\n",
        "\n",
        "Experiment with the model and achieve better results. You can find advices [here](https://arxiv.org/abs/1801.06146). Implement and describe your experiments in details, mention what was helpful."
      ]
    },
    {
      "cell_type": "markdown",
      "metadata": {
        "id": "3Db-E9RbnKoR",
        "colab_type": "text"
      },
      "source": [
        "### 1. First try: simple tuning: increased dropout in the 2-layer gru, added linear layer and activation function between them: accuracy score:0.925, recall:1.0, f1-score:0.96, precision:0.925\n",
        "### 2. ?\n",
        "### 3. ?"
      ]
    },
    {
      "cell_type": "code",
      "metadata": {
        "id": "GT17qOLb5bAt",
        "colab_type": "code",
        "colab": {}
      },
      "source": [
        "class RNN_2(nn.Module):\n",
        "    def __init__(self, hidden_dim, emb_dim, vocab_size):\n",
        "        super().__init__()\n",
        "\n",
        "        self.hidden_dim = hidden_dim\n",
        "        self.emb_dim = emb_dim\n",
        "        self.vocab_size = vocab_size\n",
        "\n",
        "        self.encoder = nn.Embedding(vocab_size, emb_dim, padding_idx=1)\n",
        "        self.gru = nn.GRU(emb_dim, hidden_dim, bidirectional=True, batch_first=True, dropout=0.5, num_layers=2)\n",
        "        self.decoder_1 = nn.Linear(hidden_dim, 64)\n",
        "        self.decoder_2 = nn.Linear(64, 1)\n",
        "        self.act = nn.ReLU()\n",
        "        self.sgm = nn.Sigmoid()\n",
        "\n",
        "    def forward(self, seq):\n",
        "        embs = self.encoder(seq.permute(1,0))\n",
        "        out, hidden = self.gru(embs)\n",
        "        out = self.act(self.decoder_1(hidden[-1]))\n",
        "        out = self.decoder_2(out)\n",
        "        preds = self.sgm(out)\n",
        "        return preds.squeeze(1)"
      ],
      "execution_count": 0,
      "outputs": []
    },
    {
      "cell_type": "code",
      "metadata": {
        "id": "9HYMZ7cjl7tJ",
        "colab_type": "code",
        "colab": {}
      },
      "source": [
        "em_sz = 200\n",
        "nh = 300\n",
        "model = RNN_2(hidden_dim = nh, emb_dim=em_sz, vocab_size=len(TEXT.vocab)); model\n",
        "model.cuda()\n",
        "opt = torch.optim.Adam(model.parameters(), lr=0.001)\n",
        "loss_func = nn.BCELoss(reduction='sum')"
      ],
      "execution_count": 0,
      "outputs": []
    },
    {
      "cell_type": "code",
      "metadata": {
        "id": "fp4ept0amCX0",
        "colab_type": "code",
        "colab": {
          "base_uri": "https://localhost:8080/",
          "height": 567
        },
        "outputId": "fc61dba2-288c-4b16-a46e-cfd26260abef"
      },
      "source": [
        "%%time\n",
        "losses_train, losses_val = [], []\n",
        "for epoch in range(1, epochs + 1):\n",
        "    running_loss = 0.0\n",
        "    running_corrects = 0\n",
        "    model.train() \n",
        "    for batch in train_iter: \n",
        "        \n",
        "        x = batch.text\n",
        "        y = batch.label\n",
        "        opt.zero_grad()\n",
        "        preds = model(x)   \n",
        "        loss = loss_func(preds.to(dtype=torch.float32), y.to(dtype=torch.float32))\n",
        "        loss.backward()\n",
        "        opt.step()\n",
        "        running_loss += loss.item()\n",
        "\n",
        "    epoch_loss = running_loss / len(trn)\n",
        "    losses_train.append(epoch_loss)\n",
        "\n",
        "    val_loss = 0.0\n",
        "    model.eval()\n",
        "    for batch in val_iter:\n",
        "        with torch.no_grad():    \n",
        "            x = batch.text\n",
        "            y = batch.label\n",
        "        \n",
        "            preds = model(x) \n",
        "            loss = loss_func(preds.to(dtype=torch.float32), y.to(dtype=torch.float32))\n",
        "            val_loss += loss.item()\n",
        "    val_loss /= len(vld)\n",
        "    losses_val.append(val_loss)\n",
        "    print('Epoch: {}, Training Loss: {}, Validation Loss: {}'.format(epoch, epoch_loss, val_loss))\n",
        "\n",
        "plt.figure(figsize=(12,8))\n",
        "plt.plot(losses_train, label='train')\n",
        "plt.plot(losses_val, label='val')\n",
        "plt.legend(loc='best')"
      ],
      "execution_count": 50,
      "outputs": [
        {
          "output_type": "stream",
          "text": [
            "Epoch: 1, Training Loss: 0.6560229925973075, Validation Loss: 0.558122517267863\n",
            "Epoch: 2, Training Loss: 0.39326286370413643, Validation Loss: 0.3321685357411702\n",
            "Epoch: 3, Training Loss: 0.17935112872804915, Validation Loss: 0.35293827832539876\n",
            "CPU times: user 4min 49s, sys: 1min 53s, total: 6min 42s\n",
            "Wall time: 6min 44s\n"
          ],
          "name": "stdout"
        },
        {
          "output_type": "display_data",
          "data": {
            "image/png": "[encoded data removed]",
            "text/plain": [
              "<Figure size 864x576 with 1 Axes>"
            ]
          },
          "metadata": {
            "tags": []
          }
        }
      ]
    },
    {
      "cell_type": "code",
      "metadata": {
        "id": "ZbHx4xPho6Ei",
        "colab_type": "code",
        "colab": {
          "base_uri": "https://localhost:8080/",
          "height": 87
        },
        "outputId": "aa16311c-68d5-404e-af03-cf6516d02842"
      },
      "source": [
        "for batch in test_iter:\n",
        "    accuracies, rcl, precs, f1s = [], [], [], []\n",
        "    model.eval()\n",
        "    x = batch.text\n",
        "    out = torch.round(model(x))\n",
        "    out = out.detach().cpu().numpy()\n",
        "    y = batch.label.to(torch.float32).detach().cpu().numpy()\n",
        "    accuracies.append(accuracy_score(out,y))\n",
        "    rcl.append(recall_score(out, y))\n",
        "    precs.append(precision_score(out, y))\n",
        "    f1s.append(f1_score(out, y))\n",
        "\n",
        "print('Accuracy score:{}, recall:{}, f1-score:{}, precision:{}'.format(np.mean(accuracies), np.mean(rcl), np.mean(f1s), np.mean(precs)))"
      ],
      "execution_count": 51,
      "outputs": [
        {
          "output_type": "stream",
          "text": [
            "/usr/local/lib/python3.6/dist-packages/sklearn/metrics/_classification.py:1272: UndefinedMetricWarning: Precision is ill-defined and being set to 0.0 due to no predicted samples. Use `zero_division` parameter to control this behavior.\n",
            "  _warn_prf(average, modifier, msg_start, len(result))\n"
          ],
          "name": "stderr"
        },
        {
          "output_type": "stream",
          "text": [
            "Accuracy score:0.925, recall:1.0, f1-score:0.961038961038961, precision:0.925\n"
          ],
          "name": "stdout"
        }
      ]
    },
    {
      "cell_type": "markdown",
      "metadata": {
        "id": "9QvHQPcasB3M",
        "colab_type": "text"
      },
      "source": [
        "## Now let's try to rebuild our NN. "
      ]
    },
    {
      "cell_type": "code",
      "metadata": {
        "id": "zrXoYcowpLAV",
        "colab_type": "code",
        "colab": {}
      },
      "source": [
        ""
      ],
      "execution_count": 0,
      "outputs": []
    }
  ]
}