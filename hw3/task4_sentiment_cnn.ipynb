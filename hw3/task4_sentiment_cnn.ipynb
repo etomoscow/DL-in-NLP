{
  "nbformat": 4,
  "nbformat_minor": 0,
  "metadata": {
    "kernelspec": {
      "name": "python3",
      "display_name": "Python 3"
    },
    "language_info": {
      "codemirror_mode": {
        "name": "ipython",
        "version": 3
      },
      "file_extension": ".py",
      "mimetype": "text/x-python",
      "name": "python",
      "nbconvert_exporter": "python",
      "pygments_lexer": "ipython3",
      "version": "3.6.9"
    },
    "colab": {
      "name": "task4_sentiment_cnn.ipynb",
      "provenance": [],
      "include_colab_link": true
    },
    "accelerator": "GPU"
  },
  "cells": [
    {
      "cell_type": "markdown",
      "metadata": {
        "id": "view-in-github",
        "colab_type": "text"
      },
      "source": [
        "<a href=\"https://colab.research.google.com/github/etomoscow/DL-in-NLP/blob/master/hw3/task4_sentiment_cnn.ipynb\" target=\"_parent\"><img src=\"https://colab.research.google.com/assets/colab-badge.svg\" alt=\"Open In Colab\"/></a>"
      ]
    },
    {
      "cell_type": "markdown",
      "metadata": {
        "id": "xNKbmhbwU-fS",
        "colab_type": "text"
      },
      "source": [
        "## Assignment 2.4: Text classification via CNN (20 points)"
      ]
    },
    {
      "cell_type": "markdown",
      "metadata": {
        "id": "cXe3uSABU-fT",
        "colab_type": "text"
      },
      "source": [
        "In this assignment you should perform sentiment analysis of the IMDB reviews based on CNN architecture. Read carefully [Convolutional Neural Networks for Sentence Classification](https://arxiv.org/pdf/1408.5882.pdf) by Yoon Kim."
      ]
    },
    {
      "cell_type": "code",
      "metadata": {
        "id": "uUjT2NBbU-fU",
        "colab_type": "code",
        "colab": {}
      },
      "source": [
        "import numpy as np\n",
        "import torch\n",
        "from sklearn.metrics import f1_score, accuracy_score, precision_score, recall_score \n",
        "\n",
        "import torch.nn as nn\n",
        "import torch.nn.functional as F\n",
        "import torch.optim as optim\n",
        "\n",
        "from torchtext import datasets\n",
        "from torchtext.data import Field, LabelField\n",
        "from torchtext.data import BucketIterator"
      ],
      "execution_count": 0,
      "outputs": []
    },
    {
      "cell_type": "markdown",
      "metadata": {
        "id": "4-aB34JbU-fY",
        "colab_type": "text"
      },
      "source": [
        "### Preparing Data"
      ]
    },
    {
      "cell_type": "code",
      "metadata": {
        "id": "44NyMyYrU-fY",
        "colab_type": "code",
        "colab": {}
      },
      "source": [
        "TEXT = Field(sequential=True,\n",
        "             lower=True,\n",
        "             batch_first=True,\n",
        "             fix_length=200,\n",
        "             include_lengths=True\n",
        "             )\n",
        "LABEL = LabelField(batch_first=True)"
      ],
      "execution_count": 0,
      "outputs": []
    },
    {
      "cell_type": "code",
      "metadata": {
        "id": "j8PjFm8nU-fb",
        "colab_type": "code",
        "outputId": "66b2fc27-cf9c-4b88-cc8b-649725f4e325",
        "colab": {
          "base_uri": "https://localhost:8080/",
          "height": 51
        }
      },
      "source": [
        "train, tst = datasets.IMDB.splits(TEXT, LABEL)\n",
        "trn, vld = train.split()"
      ],
      "execution_count": 3,
      "outputs": [
        {
          "output_type": "stream",
          "text": [
            "downloading aclImdb_v1.tar.gz\n"
          ],
          "name": "stdout"
        },
        {
          "output_type": "stream",
          "text": [
            "aclImdb_v1.tar.gz: 100%|██████████| 84.1M/84.1M [00:07<00:00, 11.1MB/s]\n"
          ],
          "name": "stderr"
        }
      ]
    },
    {
      "cell_type": "code",
      "metadata": {
        "id": "W32nW_RKU-fe",
        "colab_type": "code",
        "outputId": "dc46157d-f81f-407d-8e7e-8a421ea9081b",
        "colab": {
          "base_uri": "https://localhost:8080/",
          "height": 51
        }
      },
      "source": [
        "%%time\n",
        "TEXT.build_vocab(trn)"
      ],
      "execution_count": 4,
      "outputs": [
        {
          "output_type": "stream",
          "text": [
            "CPU times: user 1.36 s, sys: 37 ms, total: 1.39 s\n",
            "Wall time: 1.4 s\n"
          ],
          "name": "stdout"
        }
      ]
    },
    {
      "cell_type": "code",
      "metadata": {
        "id": "0rQIS06DU-fi",
        "colab_type": "code",
        "colab": {}
      },
      "source": [
        "LABEL.build_vocab(trn)"
      ],
      "execution_count": 0,
      "outputs": []
    },
    {
      "cell_type": "markdown",
      "metadata": {
        "id": "7LBcvS2PU-fl",
        "colab_type": "text"
      },
      "source": [
        "### Creating the Iterator (2 points)"
      ]
    },
    {
      "cell_type": "markdown",
      "metadata": {
        "id": "bFcQdUPBU-fm",
        "colab_type": "text"
      },
      "source": [
        "Define an iterator here"
      ]
    },
    {
      "cell_type": "code",
      "metadata": {
        "id": "MfLcZ8twU-fm",
        "colab_type": "code",
        "colab": {}
      },
      "source": [
        "train_iter, val_iter, test_iter = BucketIterator.splits(\n",
        "        (trn, vld, tst),\n",
        "        batch_sizes=(64, 64, 64),\n",
        "        sort=False,\n",
        "        sort_key= lambda x: len(x.text),\n",
        "        sort_within_batch=False,\n",
        "        device='cuda',\n",
        "        repeat=False\n",
        ")"
      ],
      "execution_count": 0,
      "outputs": []
    },
    {
      "cell_type": "code",
      "metadata": {
        "id": "MVrIWvjv-b_V",
        "colab_type": "code",
        "colab": {}
      },
      "source": [
        "batch = next(train_iter.__iter__())"
      ],
      "execution_count": 0,
      "outputs": []
    },
    {
      "cell_type": "markdown",
      "metadata": {
        "id": "5peD6GdVU-fp",
        "colab_type": "text"
      },
      "source": [
        "### Define CNN-based text classification model (8 points)"
      ]
    },
    {
      "cell_type": "code",
      "metadata": {
        "id": "9ChqeI3cU-fq",
        "colab_type": "code",
        "colab": {}
      },
      "source": [
        "class CNN(nn.Module):\n",
        "    def __init__(self, V, D, kernel_sizes, stride=1, padding=0, dropout=0.5, out_channels=1):\n",
        "        super(CNN, self).__init__()\n",
        "        \n",
        "        self.V = V\n",
        "        self.D = D\n",
        "        self.kernel_sizes = kernel_sizes\n",
        "        self.stride = stride\n",
        "        self.padding = padding\n",
        "        self.dropout = dropout\n",
        "        self.out_channels = out_channels\n",
        "    \n",
        "        self.embs = nn.Embedding(V, D, padding_idx=1)\n",
        "        self.conv1 = nn.Conv2d(1, out_channels,(kernel_sizes[0], D))\n",
        "        self.conv2 = nn.Conv2d(1, out_channels, (kernel_sizes[1], D))\n",
        "        self.conv3 = nn.Conv2d(1, out_channels, (kernel_sizes[2], D))\n",
        "        self.dp = nn.Dropout(dropout)\n",
        "        self.lin = nn.Linear(len(kernel_sizes)*out_channels, 2)\n",
        "    \n",
        "    \n",
        "    def convolution_block(self, input, conv):\n",
        "        conved = conv(input)\n",
        "        act = F.relu(conved.squeeze(3))\n",
        "        out = F.max_pool1d(act, act.size()[2]).squeeze(2)\n",
        "\n",
        "        return out\n",
        "    def forward(self, x):\n",
        "        \n",
        "        x = self.embs(x).unsqueeze(1)\n",
        "        out1 = self.convolution_block(x, self.conv1)\n",
        "        out2 = self.convolution_block(x, self.conv2)\n",
        "        out3 = self.convolution_block(x, self.conv3)\n",
        "\n",
        "        concat = self.dp(torch.cat((out1, out2, out3), 1))\n",
        "        logit = self.lin(concat)\n",
        "        return logit"
      ],
      "execution_count": 0,
      "outputs": []
    },
    {
      "cell_type": "code",
      "metadata": {
        "id": "OBZiWL2gU-fs",
        "colab_type": "code",
        "colab": {}
      },
      "source": [
        "kernel_sizes = [3,4,5]\n",
        "vocab_size = len(TEXT.vocab)\n",
        "dropout = 0.5\n",
        "dim = 300\n",
        "\n",
        "model = CNN(vocab_size, dim, kernel_sizes, dropout)"
      ],
      "execution_count": 0,
      "outputs": []
    },
    {
      "cell_type": "code",
      "metadata": {
        "id": "xTK0EO7zU-fv",
        "colab_type": "code",
        "outputId": "9885700c-7e07-4383-9e12-42cbef7c3852",
        "colab": {
          "base_uri": "https://localhost:8080/",
          "height": 153
        }
      },
      "source": [
        "model.cuda()"
      ],
      "execution_count": 10,
      "outputs": [
        {
          "output_type": "execute_result",
          "data": {
            "text/plain": [
              "CNN(\n",
              "  (embs): Embedding(202121, 300, padding_idx=1)\n",
              "  (conv1): Conv2d(1, 1, kernel_size=(3, 300), stride=(1, 1))\n",
              "  (conv2): Conv2d(1, 1, kernel_size=(4, 300), stride=(1, 1))\n",
              "  (conv3): Conv2d(1, 1, kernel_size=(5, 300), stride=(1, 1))\n",
              "  (dp): Dropout(p=0.5, inplace=False)\n",
              "  (lin): Linear(in_features=3, out_features=2, bias=True)\n",
              ")"
            ]
          },
          "metadata": {
            "tags": []
          },
          "execution_count": 10
        }
      ]
    },
    {
      "cell_type": "markdown",
      "metadata": {
        "id": "XPFSMvIfU-fy",
        "colab_type": "text"
      },
      "source": [
        "### The training loop (3 points)"
      ]
    },
    {
      "cell_type": "markdown",
      "metadata": {
        "id": "TvSQD1ZVU-fy",
        "colab_type": "text"
      },
      "source": [
        "Define the optimization function and the loss functions."
      ]
    },
    {
      "cell_type": "code",
      "metadata": {
        "id": "kFk48mD3U-fz",
        "colab_type": "code",
        "colab": {}
      },
      "source": [
        "opt = optim.Adam(model.parameters(), lr=0.05)\n",
        "loss_func = nn.CrossEntropyLoss()"
      ],
      "execution_count": 0,
      "outputs": []
    },
    {
      "cell_type": "markdown",
      "metadata": {
        "id": "Smv08lRPU-f2",
        "colab_type": "text"
      },
      "source": [
        "Think carefully about the stopping criteria. "
      ]
    },
    {
      "cell_type": "code",
      "metadata": {
        "id": "ZLOeQhVjU-f3",
        "colab_type": "code",
        "colab": {}
      },
      "source": [
        "epochs = 10"
      ],
      "execution_count": 0,
      "outputs": []
    },
    {
      "cell_type": "code",
      "metadata": {
        "id": "81ickPlowMal",
        "colab_type": "code",
        "colab": {}
      },
      "source": [
        "def train_model(model, optimizer, loss_func, num_epochs, trainset, valset):\n",
        "    %%time\n",
        "    train_loss, valid_loss = [], []\n",
        "    for epoch in range(1, num_epochs + 1):\n",
        "        train_acc, val_acc = [], []\n",
        "        running_loss = 0.0\n",
        "        running_corrects = 0\n",
        "        model.train() \n",
        "        for batch in trainset:         \n",
        "        \n",
        "            x = batch.text[0]\n",
        "            y = batch.label\n",
        "        \n",
        "            opt.zero_grad()\n",
        "            preds = model(x)\n",
        "            loss = loss_func(preds, y)\n",
        "            loss.backward()\n",
        "            optimizer.step()\n",
        "            running_loss += loss.item()\n",
        "        \n",
        "            n_correct = (torch.max(preds, 1)[1].view(y.size()).data == y.data).float().sum().detach().cpu().numpy()\n",
        "            train_acc.append(100.0 * n_correct/len(batch))\n",
        "\n",
        "        epoch_loss = running_loss / len(trn)\n",
        "        train_loss.append(epoch_loss)\n",
        "\n",
        "        val_loss = 0.0\n",
        "        model.eval()\n",
        "        correct = 0\n",
        "        total = 0 \n",
        "        for batch in val_iter:\n",
        "            with torch.no_grad():\n",
        "                x = batch.text[0]\n",
        "                y = batch.label\n",
        "        \n",
        "                preds = model(x)\n",
        "                loss = loss_func(preds, y)\n",
        "                val_loss += loss.item()\n",
        "\n",
        "                n_correct = (torch.max(preds, 1)[1].view(y.size()).data == y.data).float().sum().detach().cpu().numpy()\n",
        "                val_acc.append(100.0 * n_correct/len(batch))\n",
        "\n",
        "        val_loss /= len(vld)\n",
        "        valid_loss.append(val_loss)\n",
        "        print('Epoch: {}, Training Loss: {}, Training Accuracy: {}, Validation Loss: {}, Validation Accuracy: {}'.format(epoch, round(epoch_loss, 5), round(np.mean(train_acc), 2), round(val_loss, 5), round(np.mean(val_acc), 2)))"
      ],
      "execution_count": 0,
      "outputs": []
    },
    {
      "cell_type": "code",
      "metadata": {
        "id": "aiDeGdcSwxFX",
        "colab_type": "code",
        "outputId": "2ede4876-e652-430d-a7ee-946800737ed0",
        "colab": {
          "base_uri": "https://localhost:8080/",
          "height": 221
        }
      },
      "source": [
        "train_model(model, opt, loss_func, epochs, train_iter, val_iter)"
      ],
      "execution_count": 14,
      "outputs": [
        {
          "output_type": "stream",
          "text": [
            "CPU times: user 2 µs, sys: 0 ns, total: 2 µs\n",
            "Wall time: 5.01 µs\n",
            "Epoch: 1, Training Loss: 0.01241, Training Accuracy: 49.87, Validation Loss: 0.01186, Validation Accuracy: 51.25\n",
            "Epoch: 2, Training Loss: 0.01275, Training Accuracy: 49.73, Validation Loss: 0.01092, Validation Accuracy: 49.38\n",
            "Epoch: 3, Training Loss: 0.01259, Training Accuracy: 50.1, Validation Loss: 0.01286, Validation Accuracy: 50.06\n",
            "Epoch: 4, Training Loss: 0.0138, Training Accuracy: 50.81, Validation Loss: 0.01233, Validation Accuracy: 50.4\n",
            "Epoch: 5, Training Loss: 0.01426, Training Accuracy: 51.14, Validation Loss: 0.01286, Validation Accuracy: 50.63\n",
            "Epoch: 6, Training Loss: 0.01549, Training Accuracy: 51.58, Validation Loss: 0.01431, Validation Accuracy: 51.94\n",
            "Epoch: 7, Training Loss: 0.01504, Training Accuracy: 51.21, Validation Loss: 0.01112, Validation Accuracy: 51.48\n",
            "Epoch: 8, Training Loss: 0.01529, Training Accuracy: 51.6, Validation Loss: 0.01521, Validation Accuracy: 49.39\n",
            "Epoch: 9, Training Loss: 0.01795, Training Accuracy: 52.53, Validation Loss: 0.01234, Validation Accuracy: 50.38\n",
            "Epoch: 10, Training Loss: 0.01731, Training Accuracy: 52.02, Validation Loss: 0.01544, Validation Accuracy: 50.69\n"
          ],
          "name": "stdout"
        }
      ]
    },
    {
      "cell_type": "markdown",
      "metadata": {
        "id": "axtnp0ROU-f9",
        "colab_type": "text"
      },
      "source": [
        "### Calculate performance of the trained model (2 points)"
      ]
    },
    {
      "cell_type": "code",
      "metadata": {
        "id": "LaiHy-aLnlKr",
        "colab_type": "code",
        "colab": {}
      },
      "source": [
        "preds = model(batch.text[0])"
      ],
      "execution_count": 0,
      "outputs": []
    },
    {
      "cell_type": "code",
      "metadata": {
        "id": "10d9rrBnnqGq",
        "colab_type": "code",
        "colab": {
          "base_uri": "https://localhost:8080/",
          "height": 68
        },
        "outputId": "64289f48-8f56-42ac-ee09-5384d401f3db"
      },
      "source": [
        "torch.max(preds, 1)[1]"
      ],
      "execution_count": 20,
      "outputs": [
        {
          "output_type": "execute_result",
          "data": {
            "text/plain": [
              "tensor([1, 0, 0, 0, 0, 0, 0, 0, 0, 0, 0, 0, 0, 0, 0, 0, 0, 0, 0, 0, 0, 0, 0, 0,\n",
              "        1, 0, 0, 1, 0, 0, 0, 0, 0, 1, 0, 0, 0, 0, 0, 1, 0, 0, 0, 0, 0, 0, 0, 1,\n",
              "        0, 1, 0, 0, 0, 0, 0, 0, 0, 0, 0, 0, 0, 0, 0, 0], device='cuda:0')"
            ]
          },
          "metadata": {
            "tags": []
          },
          "execution_count": 20
        }
      ]
    },
    {
      "cell_type": "code",
      "metadata": {
        "id": "UGwZEnAKU-f9",
        "colab_type": "code",
        "colab": {
          "base_uri": "https://localhost:8080/",
          "height": 34
        },
        "outputId": "8e8807ae-57cb-4dc2-a8c7-7a9c8dd3c6aa"
      },
      "source": [
        "def evaluate_model(model, testset):\n",
        "    tn = 0\n",
        "    tp = 0\n",
        "    fp = 0\n",
        "    fn = 0\n",
        "    total = 0\n",
        "    model.eval()\n",
        "    accuracies, f1_scores, precisions, recalls = [], [], [], []\n",
        "    for batch in testset:\n",
        "        x = batch.text[0]\n",
        "        y = batch.label\n",
        "        preds = model(x)\n",
        "        preds = torch.max(preds, 1)[1].view(y.size()).data.detach().cpu().numpy()\n",
        "        target = y.data.detach().cpu().numpy()\n",
        "        total += len(target)\n",
        "        tp += (preds * target).sum()\n",
        "        tn += ((1 - preds) * (1 - target)).sum()\n",
        "        fp += (preds*(1 - target)).sum()\n",
        "        fn += ((1-preds)*target).sum()\n",
        "\n",
        "    recall = tp /float(tp+fn)\n",
        "    precision = tp/float(tp+fp)\n",
        "    f1 = (2*tp)/float(2*tp+fp+fn)\n",
        "    accuracy = (tp+tn) / float(total)\n",
        "\n",
        "    print('Average classification scores:\\nAccuracy:{}, \\nPrecision:{},\\nRecall:{},\\nF1-score:{}'.format(round(accuracy,3),\n",
        "                                                                                                     round(f1,3),\n",
        "                                                                                                     round(precision,3),\n",
        "                                                                                                     round(recall,3)))"
      ],
      "execution_count": 21,
      "outputs": [
        {
          "output_type": "stream",
          "text": [
            "ERROR! Session/line number was not unique in database. History logging moved to new session 59\n"
          ],
          "name": "stdout"
        }
      ]
    },
    {
      "cell_type": "code",
      "metadata": {
        "id": "JmE77j5cx9Jp",
        "colab_type": "code",
        "colab": {
          "base_uri": "https://localhost:8080/",
          "height": 102
        },
        "outputId": "375076e7-47e4-4857-e6a7-d19f70d800fc"
      },
      "source": [
        "evaluate_model(model, test_iter)"
      ],
      "execution_count": 22,
      "outputs": [
        {
          "output_type": "stream",
          "text": [
            "Average classification scores:\n",
            "Accuracy:0.513, \n",
            "Precision:0.172,\n",
            "Recall:0.573,\n",
            "F1-score:0.101\n"
          ],
          "name": "stdout"
        }
      ]
    },
    {
      "cell_type": "markdown",
      "metadata": {
        "id": "vgw7ypkwU-f_",
        "colab_type": "text"
      },
      "source": [
        "Write down the calculated performance\n",
        "\n",
        "### Accuracy:0.513\n",
        "### Precision:0.172\n",
        "### Recall: 0.573\n",
        "### F1: 0.101"
      ]
    },
    {
      "cell_type": "markdown",
      "metadata": {
        "id": "Vp_AZKhpU-gA",
        "colab_type": "text"
      },
      "source": [
        "### Experiments (5 points)\n",
        "\n",
        "Experiment with the model and achieve better results. Implement and describe your experiments in details, mention what was helpful."
      ]
    },
    {
      "cell_type": "markdown",
      "metadata": {
        "id": "YH-Fgwr3U-gA",
        "colab_type": "text"
      },
      "source": [
        "### 1. Bad results on the baseline. Let's tune the model. Actions: lower the embedding dimension, lower the learning rate, increase the number of epochs.Results: Accuracy:0.693, Precision:0.701, Recall:0.683, F1-score:0.721"
      ]
    },
    {
      "cell_type": "code",
      "metadata": {
        "id": "L3LljShDwDiE",
        "colab_type": "code",
        "colab": {}
      },
      "source": [
        "kernel_sizes = [3,4,5]\n",
        "vocab_size = len(TEXT.vocab)\n",
        "dropout = 0.5\n",
        "dim = 256\n",
        "\n",
        "model = CNN(vocab_size, dim, kernel_sizes, dropout)\n",
        "model.cuda()\n",
        "opt = optim.Adam(model.parameters(), lr=0.0002)\n",
        "loss_func = nn.CrossEntropyLoss()"
      ],
      "execution_count": 0,
      "outputs": []
    },
    {
      "cell_type": "code",
      "metadata": {
        "id": "f3TvIc5JyHiC",
        "colab_type": "code",
        "outputId": "93b7bbdc-49cb-44ab-b44d-76d378ef16dd",
        "colab": {
          "base_uri": "https://localhost:8080/",
          "height": 561
        }
      },
      "source": [
        "train_model(model, opt, loss_func, 30, train_iter, val_iter)"
      ],
      "execution_count": 24,
      "outputs": [
        {
          "output_type": "stream",
          "text": [
            "CPU times: user 2 µs, sys: 1e+03 ns, total: 3 µs\n",
            "Wall time: 7.15 µs\n",
            "Epoch: 1, Training Loss: 0.01364, Training Accuracy: 50.99, Validation Loss: 0.01085, Validation Accuracy: 53.15\n",
            "Epoch: 2, Training Loss: 0.01129, Training Accuracy: 52.07, Validation Loss: 0.01074, Validation Accuracy: 57.3\n",
            "Epoch: 3, Training Loss: 0.01088, Training Accuracy: 54.24, Validation Loss: 0.01059, Validation Accuracy: 60.3\n",
            "Epoch: 4, Training Loss: 0.01071, Training Accuracy: 56.22, Validation Loss: 0.01052, Validation Accuracy: 60.93\n",
            "Epoch: 5, Training Loss: 0.01059, Training Accuracy: 57.17, Validation Loss: 0.01038, Validation Accuracy: 62.75\n",
            "Epoch: 6, Training Loss: 0.01044, Training Accuracy: 58.62, Validation Loss: 0.01023, Validation Accuracy: 64.35\n",
            "Epoch: 7, Training Loss: 0.01033, Training Accuracy: 59.39, Validation Loss: 0.0102, Validation Accuracy: 63.97\n",
            "Epoch: 8, Training Loss: 0.01019, Training Accuracy: 60.51, Validation Loss: 0.01005, Validation Accuracy: 65.4\n",
            "Epoch: 9, Training Loss: 0.01012, Training Accuracy: 61.52, Validation Loss: 0.01, Validation Accuracy: 66.0\n",
            "Epoch: 10, Training Loss: 0.00996, Training Accuracy: 62.51, Validation Loss: 0.0098, Validation Accuracy: 67.34\n",
            "Epoch: 11, Training Loss: 0.0099, Training Accuracy: 62.96, Validation Loss: 0.00978, Validation Accuracy: 68.0\n",
            "Epoch: 12, Training Loss: 0.0098, Training Accuracy: 63.95, Validation Loss: 0.0097, Validation Accuracy: 67.8\n",
            "Epoch: 13, Training Loss: 0.00964, Training Accuracy: 64.86, Validation Loss: 0.00964, Validation Accuracy: 68.42\n",
            "Epoch: 14, Training Loss: 0.00958, Training Accuracy: 65.26, Validation Loss: 0.00958, Validation Accuracy: 68.88\n",
            "Epoch: 15, Training Loss: 0.00944, Training Accuracy: 66.1, Validation Loss: 0.00951, Validation Accuracy: 68.79\n",
            "Epoch: 16, Training Loss: 0.00927, Training Accuracy: 67.72, Validation Loss: 0.00948, Validation Accuracy: 69.0\n",
            "Epoch: 17, Training Loss: 0.00919, Training Accuracy: 68.18, Validation Loss: 0.00939, Validation Accuracy: 69.24\n",
            "Epoch: 18, Training Loss: 0.00905, Training Accuracy: 68.62, Validation Loss: 0.0094, Validation Accuracy: 68.88\n",
            "Epoch: 19, Training Loss: 0.00899, Training Accuracy: 69.46, Validation Loss: 0.0093, Validation Accuracy: 69.41\n",
            "Epoch: 20, Training Loss: 0.00883, Training Accuracy: 70.32, Validation Loss: 0.00927, Validation Accuracy: 69.5\n",
            "Epoch: 21, Training Loss: 0.00865, Training Accuracy: 71.38, Validation Loss: 0.00923, Validation Accuracy: 69.43\n",
            "Epoch: 22, Training Loss: 0.00856, Training Accuracy: 71.85, Validation Loss: 0.00917, Validation Accuracy: 69.56\n",
            "Epoch: 23, Training Loss: 0.00836, Training Accuracy: 72.9, Validation Loss: 0.00911, Validation Accuracy: 69.57\n",
            "Epoch: 24, Training Loss: 0.00819, Training Accuracy: 73.4, Validation Loss: 0.00908, Validation Accuracy: 69.7\n",
            "Epoch: 25, Training Loss: 0.0081, Training Accuracy: 73.78, Validation Loss: 0.00906, Validation Accuracy: 70.06\n",
            "Epoch: 26, Training Loss: 0.00795, Training Accuracy: 74.47, Validation Loss: 0.00906, Validation Accuracy: 69.21\n",
            "Epoch: 27, Training Loss: 0.00783, Training Accuracy: 75.13, Validation Loss: 0.00906, Validation Accuracy: 69.28\n",
            "Epoch: 28, Training Loss: 0.00772, Training Accuracy: 75.36, Validation Loss: 0.00901, Validation Accuracy: 69.52\n",
            "Epoch: 29, Training Loss: 0.00755, Training Accuracy: 76.23, Validation Loss: 0.009, Validation Accuracy: 69.47\n",
            "Epoch: 30, Training Loss: 0.00745, Training Accuracy: 76.22, Validation Loss: 0.009, Validation Accuracy: 69.74\n"
          ],
          "name": "stdout"
        }
      ]
    },
    {
      "cell_type": "code",
      "metadata": {
        "id": "QvJZVvjByHvy",
        "colab_type": "code",
        "outputId": "bd9b06d1-c7cf-4eb1-97cb-45ab39f93e63",
        "colab": {
          "base_uri": "https://localhost:8080/",
          "height": 102
        }
      },
      "source": [
        "evaluate_model(model, test_iter)"
      ],
      "execution_count": 25,
      "outputs": [
        {
          "output_type": "stream",
          "text": [
            "Average classification scores:\n",
            "Accuracy:0.693, \n",
            "Precision:0.701,\n",
            "Recall:0.683,\n",
            "F1-score:0.721\n"
          ],
          "name": "stdout"
        }
      ]
    },
    {
      "cell_type": "code",
      "metadata": {
        "id": "UtYDn8jW2ZWj",
        "colab_type": "code",
        "colab": {}
      },
      "source": [
        ""
      ],
      "execution_count": 0,
      "outputs": []
    }
  ]
}