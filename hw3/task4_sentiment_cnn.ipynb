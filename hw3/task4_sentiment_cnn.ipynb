{
  "nbformat": 4,
  "nbformat_minor": 0,
  "metadata": {
    "kernelspec": {
      "name": "python3",
      "display_name": "Python 3"
    },
    "language_info": {
      "codemirror_mode": {
        "name": "ipython",
        "version": 3
      },
      "file_extension": ".py",
      "mimetype": "text/x-python",
      "name": "python",
      "nbconvert_exporter": "python",
      "pygments_lexer": "ipython3",
      "version": "3.6.9"
    },
    "colab": {
      "name": "task4_sentiment_cnn.ipynb",
      "provenance": [],
      "include_colab_link": true
    },
    "accelerator": "GPU"
  },
  "cells": [
    {
      "cell_type": "markdown",
      "metadata": {
        "id": "view-in-github",
        "colab_type": "text"
      },
      "source": [
        "<a href=\"https://colab.research.google.com/github/etomoscow/DL-in-NLP/blob/master/hw3/task4_sentiment_cnn.ipynb\" target=\"_parent\"><img src=\"https://colab.research.google.com/assets/colab-badge.svg\" alt=\"Open In Colab\"/></a>"
      ]
    },
    {
      "cell_type": "markdown",
      "metadata": {
        "id": "xNKbmhbwU-fS",
        "colab_type": "text"
      },
      "source": [
        "## Assignment 2.4: Text classification via CNN (20 points)"
      ]
    },
    {
      "cell_type": "markdown",
      "metadata": {
        "id": "cXe3uSABU-fT",
        "colab_type": "text"
      },
      "source": [
        "In this assignment you should perform sentiment analysis of the IMDB reviews based on CNN architecture. Read carefully [Convolutional Neural Networks for Sentence Classification](https://arxiv.org/pdf/1408.5882.pdf) by Yoon Kim."
      ]
    },
    {
      "cell_type": "code",
      "metadata": {
        "id": "uUjT2NBbU-fU",
        "colab_type": "code",
        "colab": {}
      },
      "source": [
        "import numpy as np\n",
        "import torch\n",
        "from sklearn.metrics import f1_score, accuracy_score, precision_score, recall_score \n",
        "\n",
        "import torch.nn as nn\n",
        "import torch.nn.functional as F\n",
        "import torch.optim as optim\n",
        "\n",
        "from torchtext import datasets\n",
        "from torchtext.data import Field, LabelField\n",
        "from torchtext.data import BucketIterator"
      ],
      "execution_count": 0,
      "outputs": []
    },
    {
      "cell_type": "markdown",
      "metadata": {
        "id": "4-aB34JbU-fY",
        "colab_type": "text"
      },
      "source": [
        "### Preparing Data"
      ]
    },
    {
      "cell_type": "code",
      "metadata": {
        "id": "44NyMyYrU-fY",
        "colab_type": "code",
        "colab": {}
      },
      "source": [
        "TEXT = Field(sequential=True,\n",
        "             lower=True,\n",
        "             batch_first=True,\n",
        "             fix_length=200,\n",
        "             include_lengths=True\n",
        "             )\n",
        "LABEL = LabelField(batch_first=True)"
      ],
      "execution_count": 0,
      "outputs": []
    },
    {
      "cell_type": "code",
      "metadata": {
        "id": "j8PjFm8nU-fb",
        "colab_type": "code",
        "outputId": "4836e0dc-4c43-4185-88a7-652446513acc",
        "colab": {
          "base_uri": "https://localhost:8080/",
          "height": 50
        }
      },
      "source": [
        "train, tst = datasets.IMDB.splits(TEXT, LABEL)\n",
        "trn, vld = train.split()"
      ],
      "execution_count": 3,
      "outputs": [
        {
          "output_type": "stream",
          "text": [
            "downloading aclImdb_v1.tar.gz\n"
          ],
          "name": "stdout"
        },
        {
          "output_type": "stream",
          "text": [
            "aclImdb_v1.tar.gz: 100%|██████████| 84.1M/84.1M [00:07<00:00, 10.7MB/s]\n"
          ],
          "name": "stderr"
        }
      ]
    },
    {
      "cell_type": "code",
      "metadata": {
        "id": "W32nW_RKU-fe",
        "colab_type": "code",
        "outputId": "92726b14-eee0-4ebf-de7d-920b17cd8221",
        "colab": {
          "base_uri": "https://localhost:8080/",
          "height": 50
        }
      },
      "source": [
        "%%time\n",
        "TEXT.build_vocab(trn)"
      ],
      "execution_count": 4,
      "outputs": [
        {
          "output_type": "stream",
          "text": [
            "CPU times: user 1.41 s, sys: 37.3 ms, total: 1.45 s\n",
            "Wall time: 1.47 s\n"
          ],
          "name": "stdout"
        }
      ]
    },
    {
      "cell_type": "code",
      "metadata": {
        "id": "0rQIS06DU-fi",
        "colab_type": "code",
        "colab": {}
      },
      "source": [
        "LABEL.build_vocab(trn)"
      ],
      "execution_count": 0,
      "outputs": []
    },
    {
      "cell_type": "markdown",
      "metadata": {
        "id": "7LBcvS2PU-fl",
        "colab_type": "text"
      },
      "source": [
        "### Creating the Iterator (2 points)"
      ]
    },
    {
      "cell_type": "markdown",
      "metadata": {
        "id": "bFcQdUPBU-fm",
        "colab_type": "text"
      },
      "source": [
        "Define an iterator here"
      ]
    },
    {
      "cell_type": "code",
      "metadata": {
        "id": "MfLcZ8twU-fm",
        "colab_type": "code",
        "colab": {}
      },
      "source": [
        "train_iter, val_iter, test_iter = BucketIterator.splits(\n",
        "        (trn, vld, tst),\n",
        "        batch_sizes=(64, 64, 64),\n",
        "        sort=False,\n",
        "        sort_key= lambda x: len(x.text),\n",
        "        sort_within_batch=False,\n",
        "        device='cuda',\n",
        "        repeat=False\n",
        ")"
      ],
      "execution_count": 0,
      "outputs": []
    },
    {
      "cell_type": "code",
      "metadata": {
        "id": "MVrIWvjv-b_V",
        "colab_type": "code",
        "colab": {}
      },
      "source": [
        "batch = next(train_iter.__iter__())"
      ],
      "execution_count": 0,
      "outputs": []
    },
    {
      "cell_type": "markdown",
      "metadata": {
        "id": "5peD6GdVU-fp",
        "colab_type": "text"
      },
      "source": [
        "### Define CNN-based text classification model (8 points)"
      ]
    },
    {
      "cell_type": "code",
      "metadata": {
        "id": "9ChqeI3cU-fq",
        "colab_type": "code",
        "colab": {}
      },
      "source": [
        "class CNN(nn.Module):\n",
        "    def __init__(self, V, D, kernel_sizes, stride=1, padding=0, dropout=0.5, out_channels=1):\n",
        "        super(CNN, self).__init__()\n",
        "        \n",
        "        self.V = V\n",
        "        self.D = D\n",
        "        self.kernel_sizes = kernel_sizes\n",
        "        self.stride = stride\n",
        "        self.padding = padding\n",
        "        self.dropout = dropout\n",
        "        self.out_channels = out_channels\n",
        "    \n",
        "        self.embs = nn.Embedding(V, D, padding_idx=1)\n",
        "        self.conv1 = nn.Conv2d(1, out_channels,(kernel_sizes[0], D))\n",
        "        self.conv2 = nn.Conv2d(1, out_channels, (kernel_sizes[1], D))\n",
        "        self.conv3 = nn.Conv2d(1, out_channels, (kernel_sizes[2], D))\n",
        "        self.dp = nn.Dropout(dropout)\n",
        "        self.lin = nn.Linear(len(kernel_sizes)*out_channels, 2)\n",
        "    \n",
        "    \n",
        "    def convolution_block(self, input, conv):\n",
        "        conved = conv(input)\n",
        "        act = F.relu(conved.squeeze(3))\n",
        "        out = F.max_pool1d(act, act.size()[2]).squeeze(2)\n",
        "\n",
        "        return out\n",
        "    def forward(self, x):\n",
        "        \n",
        "        x = self.embs(x).unsqueeze(1)\n",
        "        out1 = self.convolution_block(x, self.conv1)\n",
        "        out2 = self.convolution_block(x, self.conv2)\n",
        "        out3 = self.convolution_block(x, self.conv3)\n",
        "\n",
        "        concat = self.dp(torch.cat((out1, out2, out3), 1))\n",
        "        logit = self.lin(concat)\n",
        "        return logit"
      ],
      "execution_count": 0,
      "outputs": []
    },
    {
      "cell_type": "code",
      "metadata": {
        "id": "OBZiWL2gU-fs",
        "colab_type": "code",
        "colab": {}
      },
      "source": [
        "kernel_sizes = [3,4,5]\n",
        "vocab_size = len(TEXT.vocab)\n",
        "dropout = 0.5\n",
        "dim = 300\n",
        "\n",
        "model = CNN(vocab_size, dim, kernel_sizes, dropout)"
      ],
      "execution_count": 0,
      "outputs": []
    },
    {
      "cell_type": "code",
      "metadata": {
        "id": "xTK0EO7zU-fv",
        "colab_type": "code",
        "outputId": "1a945805-4a82-4b11-8212-40556a879289",
        "colab": {
          "base_uri": "https://localhost:8080/",
          "height": 151
        }
      },
      "source": [
        "model.cuda()"
      ],
      "execution_count": 47,
      "outputs": [
        {
          "output_type": "execute_result",
          "data": {
            "text/plain": [
              "CNN(\n",
              "  (embs): Embedding(202178, 300, padding_idx=1)\n",
              "  (conv1): Conv2d(1, 1, kernel_size=(3, 300), stride=(1, 1))\n",
              "  (conv2): Conv2d(1, 1, kernel_size=(4, 300), stride=(1, 1))\n",
              "  (conv3): Conv2d(1, 1, kernel_size=(5, 300), stride=(1, 1))\n",
              "  (dp): Dropout(p=0.5, inplace=False)\n",
              "  (lin): Linear(in_features=3, out_features=2, bias=True)\n",
              ")"
            ]
          },
          "metadata": {
            "tags": []
          },
          "execution_count": 47
        }
      ]
    },
    {
      "cell_type": "markdown",
      "metadata": {
        "id": "XPFSMvIfU-fy",
        "colab_type": "text"
      },
      "source": [
        "### The training loop (3 points)"
      ]
    },
    {
      "cell_type": "markdown",
      "metadata": {
        "id": "TvSQD1ZVU-fy",
        "colab_type": "text"
      },
      "source": [
        "Define the optimization function and the loss functions."
      ]
    },
    {
      "cell_type": "code",
      "metadata": {
        "id": "kFk48mD3U-fz",
        "colab_type": "code",
        "colab": {}
      },
      "source": [
        "opt = optim.Adam(model.parameters(), lr=0.0002)\n",
        "loss_func = nn.CrossEntropyLoss()"
      ],
      "execution_count": 0,
      "outputs": []
    },
    {
      "cell_type": "markdown",
      "metadata": {
        "id": "Smv08lRPU-f2",
        "colab_type": "text"
      },
      "source": [
        "Think carefully about the stopping criteria. "
      ]
    },
    {
      "cell_type": "code",
      "metadata": {
        "id": "ZLOeQhVjU-f3",
        "colab_type": "code",
        "colab": {}
      },
      "source": [
        "epochs = 40"
      ],
      "execution_count": 0,
      "outputs": []
    },
    {
      "cell_type": "code",
      "metadata": {
        "id": "i0uUXls3U-f6",
        "colab_type": "code",
        "outputId": "8ec351bd-d72e-4a65-e87e-b03588f79702",
        "colab": {
          "base_uri": "https://localhost:8080/",
          "height": 722
        }
      },
      "source": [
        "%%time\n",
        "train_loss, valid_loss = [], []\n",
        "for epoch in range(1, epochs + 1):\n",
        "    train_acc, val_acc = [], []\n",
        "    running_loss = 0.0\n",
        "    running_corrects = 0\n",
        "    model.train() \n",
        "    for batch in train_iter:         \n",
        "        \n",
        "        x = batch.text[0]\n",
        "        y = batch.label\n",
        "        \n",
        "        opt.zero_grad()\n",
        "        preds = model(x)\n",
        "        loss = loss_func(preds, y)\n",
        "        loss.backward()\n",
        "        opt.step()\n",
        "        running_loss += loss.item()\n",
        "        \n",
        "        n_correct = (torch.max(preds, 1)[1].view(y.size()).data == y.data).float().sum().detach().cpu().numpy()\n",
        "        train_acc.append(100.0 * n_correct/len(batch))\n",
        "\n",
        "\n",
        "    epoch_loss = running_loss / len(trn)\n",
        "    train_loss.append(epoch_loss)\n",
        "\n",
        "    val_loss = 0.0\n",
        "    model.eval()\n",
        "    correct = 0\n",
        "    total = 0 \n",
        "    for batch in val_iter:\n",
        "        with torch.no_grad():\n",
        "            x = batch.text[0]\n",
        "            y = batch.label\n",
        "        \n",
        "            preds = model(x)\n",
        "            loss = loss_func(preds, y)\n",
        "            val_loss += loss.item()\n",
        "\n",
        "            n_correct = (torch.max(preds, 1)[1].view(y.size()).data == y.data).float().sum().detach().cpu().numpy()\n",
        "            val_acc.append(100.0 * n_correct/len(batch))\n",
        "\n",
        "    val_loss /= len(vld)\n",
        "    valid_loss.append(val_loss)\n",
        "    print('Epoch: {}, Training Loss: {}, Training Accuracy: {}, Validation Loss: {}, Validation Accuracy: {}'.format(epoch, round(epoch_loss, 5), round(np.mean(train_acc), 2), round(val_loss, 5), round(np.mean(val_acc), 2)))"
      ],
      "execution_count": 50,
      "outputs": [
        {
          "output_type": "stream",
          "text": [
            "Epoch: 1, Training Loss: 0.01202, Training Accuracy: 50.37, Validation Loss: 0.0108, Validation Accuracy: 52.12\n",
            "Epoch: 2, Training Loss: 0.01103, Training Accuracy: 53.62, Validation Loss: 0.0105, Validation Accuracy: 56.66\n",
            "Epoch: 3, Training Loss: 0.01074, Training Accuracy: 54.64, Validation Loss: 0.01035, Validation Accuracy: 59.49\n",
            "Epoch: 4, Training Loss: 0.01052, Training Accuracy: 55.69, Validation Loss: 0.01021, Validation Accuracy: 60.63\n",
            "Epoch: 5, Training Loss: 0.01039, Training Accuracy: 56.24, Validation Loss: 0.01016, Validation Accuracy: 62.27\n",
            "Epoch: 6, Training Loss: 0.01028, Training Accuracy: 57.15, Validation Loss: 0.01007, Validation Accuracy: 65.63\n",
            "Epoch: 7, Training Loss: 0.01018, Training Accuracy: 57.3, Validation Loss: 0.00999, Validation Accuracy: 67.16\n",
            "Epoch: 8, Training Loss: 0.01006, Training Accuracy: 57.67, Validation Loss: 0.00993, Validation Accuracy: 68.12\n",
            "Epoch: 9, Training Loss: 0.00998, Training Accuracy: 58.81, Validation Loss: 0.00987, Validation Accuracy: 68.8\n",
            "Epoch: 10, Training Loss: 0.00979, Training Accuracy: 60.77, Validation Loss: 0.00974, Validation Accuracy: 68.51\n",
            "Epoch: 11, Training Loss: 0.00975, Training Accuracy: 61.18, Validation Loss: 0.00967, Validation Accuracy: 68.86\n",
            "Epoch: 12, Training Loss: 0.00966, Training Accuracy: 63.23, Validation Loss: 0.00961, Validation Accuracy: 69.23\n",
            "Epoch: 13, Training Loss: 0.0094, Training Accuracy: 65.51, Validation Loss: 0.00948, Validation Accuracy: 70.03\n",
            "Epoch: 14, Training Loss: 0.00931, Training Accuracy: 66.49, Validation Loss: 0.00945, Validation Accuracy: 70.05\n",
            "Epoch: 15, Training Loss: 0.0092, Training Accuracy: 67.65, Validation Loss: 0.00937, Validation Accuracy: 70.09\n",
            "Epoch: 16, Training Loss: 0.00901, Training Accuracy: 68.96, Validation Loss: 0.00927, Validation Accuracy: 70.48\n",
            "Epoch: 17, Training Loss: 0.00889, Training Accuracy: 69.83, Validation Loss: 0.00926, Validation Accuracy: 70.54\n",
            "Epoch: 18, Training Loss: 0.00872, Training Accuracy: 71.12, Validation Loss: 0.00918, Validation Accuracy: 70.6\n",
            "Epoch: 19, Training Loss: 0.00855, Training Accuracy: 72.18, Validation Loss: 0.00915, Validation Accuracy: 70.47\n",
            "Epoch: 20, Training Loss: 0.00845, Training Accuracy: 72.15, Validation Loss: 0.00911, Validation Accuracy: 70.35\n",
            "Epoch: 21, Training Loss: 0.0083, Training Accuracy: 73.26, Validation Loss: 0.00909, Validation Accuracy: 70.62\n",
            "Epoch: 22, Training Loss: 0.00809, Training Accuracy: 74.43, Validation Loss: 0.009, Validation Accuracy: 70.84\n",
            "Epoch: 23, Training Loss: 0.00796, Training Accuracy: 74.84, Validation Loss: 0.009, Validation Accuracy: 71.03\n",
            "Epoch: 24, Training Loss: 0.00777, Training Accuracy: 75.69, Validation Loss: 0.00892, Validation Accuracy: 71.05\n",
            "Epoch: 25, Training Loss: 0.00769, Training Accuracy: 75.99, Validation Loss: 0.00891, Validation Accuracy: 71.27\n",
            "Epoch: 26, Training Loss: 0.00754, Training Accuracy: 76.46, Validation Loss: 0.00892, Validation Accuracy: 70.86\n",
            "Epoch: 27, Training Loss: 0.00736, Training Accuracy: 77.16, Validation Loss: 0.00894, Validation Accuracy: 70.48\n",
            "Epoch: 28, Training Loss: 0.00726, Training Accuracy: 78.08, Validation Loss: 0.0089, Validation Accuracy: 70.99\n",
            "Epoch: 29, Training Loss: 0.00708, Training Accuracy: 78.13, Validation Loss: 0.00895, Validation Accuracy: 70.6\n",
            "Epoch: 30, Training Loss: 0.00699, Training Accuracy: 78.77, Validation Loss: 0.0089, Validation Accuracy: 71.2\n",
            "Epoch: 31, Training Loss: 0.00695, Training Accuracy: 78.6, Validation Loss: 0.00893, Validation Accuracy: 70.72\n",
            "Epoch: 32, Training Loss: 0.00667, Training Accuracy: 79.87, Validation Loss: 0.00889, Validation Accuracy: 70.95\n",
            "Epoch: 33, Training Loss: 0.00673, Training Accuracy: 79.7, Validation Loss: 0.00896, Validation Accuracy: 70.99\n",
            "Epoch: 34, Training Loss: 0.00659, Training Accuracy: 79.91, Validation Loss: 0.00897, Validation Accuracy: 70.87\n",
            "Epoch: 35, Training Loss: 0.00636, Training Accuracy: 80.08, Validation Loss: 0.00898, Validation Accuracy: 70.81\n",
            "Epoch: 36, Training Loss: 0.00624, Training Accuracy: 81.23, Validation Loss: 0.00902, Validation Accuracy: 70.73\n",
            "Epoch: 37, Training Loss: 0.00626, Training Accuracy: 81.05, Validation Loss: 0.00907, Validation Accuracy: 70.93\n",
            "Epoch: 38, Training Loss: 0.00617, Training Accuracy: 81.18, Validation Loss: 0.00898, Validation Accuracy: 70.93\n",
            "Epoch: 39, Training Loss: 0.00611, Training Accuracy: 81.43, Validation Loss: 0.00909, Validation Accuracy: 71.02\n",
            "Epoch: 40, Training Loss: 0.00607, Training Accuracy: 81.36, Validation Loss: 0.00915, Validation Accuracy: 70.69\n",
            "CPU times: user 7min 4s, sys: 3min 48s, total: 10min 53s\n",
            "Wall time: 10min 56s\n"
          ],
          "name": "stdout"
        }
      ]
    },
    {
      "cell_type": "code",
      "metadata": {
        "id": "IWf-K9UFKzHy",
        "colab_type": "code",
        "outputId": "9f629e5e-1981-429a-cf9f-687b91e2ec63",
        "colab": {
          "base_uri": "https://localhost:8080/",
          "height": 474
        }
      },
      "source": [
        "import matplotlib.pyplot as plt\n",
        "\n",
        "plt.figure(figsize=(12,7))\n",
        "plt.title('Losses on train/val')\n",
        "plt.plot(train_loss, label='train')\n",
        "plt.plot(valid_loss, label='valid')\n",
        "plt.xlabel('num of epoch')\n",
        "plt.legend(loc='best')"
      ],
      "execution_count": 51,
      "outputs": [
        {
          "output_type": "execute_result",
          "data": {
            "text/plain": [
              "<matplotlib.legend.Legend at 0x7f2f47a989e8>"
            ]
          },
          "metadata": {
            "tags": []
          },
          "execution_count": 51
        },
        {
          "output_type": "display_data",
          "data": {
            "image/png": "[encoded data removed]",
            "text/plain": [
              "<Figure size 864x504 with 1 Axes>"
            ]
          },
          "metadata": {
            "tags": []
          }
        }
      ]
    },
    {
      "cell_type": "markdown",
      "metadata": {
        "id": "axtnp0ROU-f9",
        "colab_type": "text"
      },
      "source": [
        "### Calculate performance of the trained model (2 points)"
      ]
    },
    {
      "cell_type": "code",
      "metadata": {
        "id": "UGwZEnAKU-f9",
        "colab_type": "code",
        "outputId": "a1169743-9202-4578-a7fa-038feb4e6797",
        "colab": {
          "base_uri": "https://localhost:8080/",
          "height": 101
        }
      },
      "source": [
        "model.eval()\n",
        "accuracies, f1_scores, precisions, recalls = [], [], [], []\n",
        "for batch in test_iter:\n",
        "    with torch.no_grad():\n",
        "        x = batch.text[0]\n",
        "        y = batch.label\n",
        "        preds = model(x)\n",
        "        n_correct = (torch.max(preds, 1)[1].view(y.size()).data == y.data).float().sum().detach().cpu().numpy()\n",
        "        accuracies.append(100.0 * n_correct/len(batch))\n",
        "        logit = torch.max(preds, 1)[1].view(y.size()).data.detach().cpu().numpy()\n",
        "        target = y.data.detach().cpu().numpy()\n",
        "        f1_scores.append(f1_score(logit, target, zero_division=1))\n",
        "        precisions.append(precision_score(logit, target, zero_division=0))\n",
        "        recalls.append(recall_score(logit, target, zero_division=1))\n",
        "\n",
        "print('Average classification scores:\\nAccuracy:{}, \\nPrecision:{},\\nRecall:{},\\nF1-score:{}'.format(round(np.mean(accuracies),3),\n",
        "                                                                                                     round(100.0 *np.mean(f1_scores),3),\n",
        "                                                                                                     round(100.0 *np.mean(precisions),3),\n",
        "                                                                                                     round(100.0 *np.mean(recalls),3)))"
      ],
      "execution_count": 52,
      "outputs": [
        {
          "output_type": "stream",
          "text": [
            "Average classification scores:\n",
            "Accuracy:70.329, \n",
            "Precision:40.984,\n",
            "Recall:34.783,\n",
            "F1-score:50.08\n"
          ],
          "name": "stdout"
        }
      ]
    },
    {
      "cell_type": "markdown",
      "metadata": {
        "id": "vgw7ypkwU-f_",
        "colab_type": "text"
      },
      "source": [
        "Write down the calculated performance\n",
        "\n",
        "### Accuracy: 70.329\n",
        "### Precision: 40.984\n",
        "### Recall: 34.783\n",
        "### F1: 50.08"
      ]
    },
    {
      "cell_type": "markdown",
      "metadata": {
        "id": "Vp_AZKhpU-gA",
        "colab_type": "text"
      },
      "source": [
        "### Experiments (5 points)\n",
        "\n",
        "Experiment with the model and achieve better results. Implement and describe your experiments in details, mention what was helpful."
      ]
    },
    {
      "cell_type": "markdown",
      "metadata": {
        "id": "YH-Fgwr3U-gA",
        "colab_type": "text"
      },
      "source": [
        "### 1. ?\n",
        "### 2. ?\n",
        "### 3. ?"
      ]
    }
  ]
}