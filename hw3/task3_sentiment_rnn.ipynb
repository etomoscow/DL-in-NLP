{
  "nbformat": 4,
  "nbformat_minor": 0,
  "metadata": {
    "kernelspec": {
      "name": "python3",
      "display_name": "Python 3"
    },
    "language_info": {
      "codemirror_mode": {
        "name": "ipython",
        "version": 3
      },
      "file_extension": ".py",
      "mimetype": "text/x-python",
      "name": "python",
      "nbconvert_exporter": "python",
      "pygments_lexer": "ipython3",
      "version": "3.6.9"
    },
    "colab": {
      "name": "task3_sentiment_rnn.ipynb",
      "provenance": [],
      "collapsed_sections": [],
      "include_colab_link": true
    },
    "accelerator": "GPU"
  },
  "cells": [
    {
      "cell_type": "markdown",
      "metadata": {
        "id": "view-in-github",
        "colab_type": "text"
      },
      "source": [
        "<a href=\"https://colab.research.google.com/github/etomoscow/DL-in-NLP/blob/master/hw3/task3_sentiment_rnn.ipynb\" target=\"_parent\"><img src=\"https://colab.research.google.com/assets/colab-badge.svg\" alt=\"Open In Colab\"/></a>"
      ]
    },
    {
      "cell_type": "markdown",
      "metadata": {
        "id": "uaZ_Hu55nKnN",
        "colab_type": "text"
      },
      "source": [
        "## Assignment 2.3: Text classification via RNN (30 points)"
      ]
    },
    {
      "cell_type": "markdown",
      "metadata": {
        "id": "8qKsSbI4nKnO",
        "colab_type": "text"
      },
      "source": [
        "In this assignment you will perform sentiment analysis of the IMDBs reviews by using RNN. An additional goal is to learn high abstactions of the **torchtext** module that consists of data processing utilities and popular datasets for natural language."
      ]
    },
    {
      "cell_type": "code",
      "metadata": {
        "id": "_qXAer64nKnP",
        "colab_type": "code",
        "colab": {}
      },
      "source": [
        "import pandas as pd\n",
        "import numpy as np\n",
        "import torch, random, re\n",
        "\n",
        "from torchtext import datasets\n",
        "\n",
        "from torchtext.data import Field, LabelField\n",
        "from torchtext.data import BucketIterator\n",
        "from torch.autograd import Variable\n",
        "\n",
        "import torch.nn as nn\n",
        "import torch.nn.functional as F\n",
        "import torch.optim as optim\n",
        "\n",
        "\n",
        "SEED = 42\n",
        "random.seed(SEED)\n",
        "np.random.seed(SEED)\n",
        "torch.manual_seed(SEED)\n",
        "torch.backends.cudnn.deterministic = True"
      ],
      "execution_count": 0,
      "outputs": []
    },
    {
      "cell_type": "markdown",
      "metadata": {
        "id": "O7Q8cgUenKnU",
        "colab_type": "text"
      },
      "source": [
        "### Preparing Data"
      ]
    },
    {
      "cell_type": "code",
      "metadata": {
        "id": "viDxfSYonKnV",
        "colab_type": "code",
        "colab": {}
      },
      "source": [
        "TEXT = Field(sequential=True, lower=True)\n",
        "LABEL = LabelField()"
      ],
      "execution_count": 0,
      "outputs": []
    },
    {
      "cell_type": "code",
      "metadata": {
        "id": "fWlzav3unKnZ",
        "colab_type": "code",
        "outputId": "f2ba3025-c06c-4ea2-be4a-b280867dd264",
        "colab": {
          "base_uri": "https://localhost:8080/",
          "height": 51
        }
      },
      "source": [
        "train, tst = datasets.IMDB.splits(TEXT, LABEL)\n",
        "trn, vld = train.split()"
      ],
      "execution_count": 3,
      "outputs": [
        {
          "output_type": "stream",
          "text": [
            "downloading aclImdb_v1.tar.gz\n"
          ],
          "name": "stdout"
        },
        {
          "output_type": "stream",
          "text": [
            "aclImdb_v1.tar.gz: 100%|██████████| 84.1M/84.1M [00:07<00:00, 11.0MB/s]\n"
          ],
          "name": "stderr"
        }
      ]
    },
    {
      "cell_type": "code",
      "metadata": {
        "id": "EHvxzDatnKnd",
        "colab_type": "code",
        "outputId": "eef40571-e325-4178-857c-8e4170fbe8ec",
        "colab": {
          "base_uri": "https://localhost:8080/",
          "height": 51
        }
      },
      "source": [
        "%%time\n",
        "TEXT.build_vocab(trn)"
      ],
      "execution_count": 4,
      "outputs": [
        {
          "output_type": "stream",
          "text": [
            "CPU times: user 1.47 s, sys: 42.8 ms, total: 1.52 s\n",
            "Wall time: 1.53 s\n"
          ],
          "name": "stdout"
        }
      ]
    },
    {
      "cell_type": "code",
      "metadata": {
        "id": "84DN1eiinKng",
        "colab_type": "code",
        "colab": {}
      },
      "source": [
        "LABEL.build_vocab(trn)"
      ],
      "execution_count": 0,
      "outputs": []
    },
    {
      "cell_type": "markdown",
      "metadata": {
        "id": "v76L-2FJnKnj",
        "colab_type": "text"
      },
      "source": [
        "The vocab.freqs is a collections.Counter object, so we can take a look at the most frequent words."
      ]
    },
    {
      "cell_type": "code",
      "metadata": {
        "id": "ARfRVsKjnKnk",
        "colab_type": "code",
        "outputId": "d31a0307-23dd-4811-9015-6d8a4f47edb0",
        "colab": {
          "base_uri": "https://localhost:8080/",
          "height": 187
        }
      },
      "source": [
        "TEXT.vocab.freqs.most_common(10)"
      ],
      "execution_count": 6,
      "outputs": [
        {
          "output_type": "execute_result",
          "data": {
            "text/plain": [
              "[('the', 226113),\n",
              " ('a', 112292),\n",
              " ('and', 111242),\n",
              " ('of', 101232),\n",
              " ('to', 94021),\n",
              " ('is', 73053),\n",
              " ('in', 63565),\n",
              " ('i', 49397),\n",
              " ('this', 48805),\n",
              " ('that', 46488)]"
            ]
          },
          "metadata": {
            "tags": []
          },
          "execution_count": 6
        }
      ]
    },
    {
      "cell_type": "markdown",
      "metadata": {
        "id": "UImUaZhTnKno",
        "colab_type": "text"
      },
      "source": [
        "### Creating the Iterator (2 points)"
      ]
    },
    {
      "cell_type": "markdown",
      "metadata": {
        "id": "0xpxqXO3nKnp",
        "colab_type": "text"
      },
      "source": [
        "During training, we'll be using a special kind of Iterator, called the **BucketIterator**. When we pass data into a neural network, we want the data to be padded to be the same length so that we can process them in batch:\n",
        "\n",
        "e.g.\n",
        "\\[ \n",
        "\\[3, 15, 2, 7\\],\n",
        "\\[4, 1\\], \n",
        "\\[5, 5, 6, 8, 1\\] \n",
        "\\] -> \\[ \n",
        "\\[3, 15, 2, 7, **0**\\],\n",
        "\\[4, 1, **0**, **0**, **0**\\], \n",
        "\\[5, 5, 6, 8, 1\\] \n",
        "\\] \n",
        "\n",
        "If the sequences differ greatly in length, the padding will consume a lot of wasteful memory and time. The BucketIterator groups sequences of similar lengths together for each batch to minimize padding.\n",
        "\n",
        "Complete the definition of the **BucketIterator** object"
      ]
    },
    {
      "cell_type": "code",
      "metadata": {
        "id": "gDuXQ3NcnKnq",
        "colab_type": "code",
        "colab": {}
      },
      "source": [
        "train_iter, val_iter, test_iter = BucketIterator.splits(\n",
        "        (trn, vld, tst),\n",
        "        batch_sizes=(64, 64, 64),\n",
        "        sort=False,\n",
        "        sort_key= lambda x: len(x.text),# write your code here\n",
        "        sort_within_batch=False,\n",
        "        device='cuda',\n",
        "        repeat=False\n",
        ")"
      ],
      "execution_count": 0,
      "outputs": []
    },
    {
      "cell_type": "markdown",
      "metadata": {
        "id": "EeqrXOYNnKns",
        "colab_type": "text"
      },
      "source": [
        "Let's take a look at what the output of the BucketIterator looks like. Do not be suprised **batch_first=True**"
      ]
    },
    {
      "cell_type": "code",
      "metadata": {
        "id": "gxgnqbDWnKnt",
        "colab_type": "code",
        "outputId": "dac0a1a4-5b00-4308-f484-f9ae3315b596",
        "colab": {
          "base_uri": "https://localhost:8080/",
          "height": 34
        }
      },
      "source": [
        "batch = next(train_iter.__iter__()); batch.text.shape"
      ],
      "execution_count": 8,
      "outputs": [
        {
          "output_type": "execute_result",
          "data": {
            "text/plain": [
              "torch.Size([460, 64])"
            ]
          },
          "metadata": {
            "tags": []
          },
          "execution_count": 8
        }
      ]
    },
    {
      "cell_type": "markdown",
      "metadata": {
        "id": "8jFsnnQjnKnw",
        "colab_type": "text"
      },
      "source": [
        "The batch has all the fields we passed to the Dataset as attributes. The batch data can be accessed through the attribute with the same name."
      ]
    },
    {
      "cell_type": "code",
      "metadata": {
        "id": "5ww7wsBBnKnx",
        "colab_type": "code",
        "outputId": "f2db12f9-d4b3-4aca-e474-fb38858d96d8",
        "colab": {
          "base_uri": "https://localhost:8080/",
          "height": 34
        }
      },
      "source": [
        "batch.__dict__.keys()"
      ],
      "execution_count": 9,
      "outputs": [
        {
          "output_type": "execute_result",
          "data": {
            "text/plain": [
              "dict_keys(['batch_size', 'dataset', 'fields', 'input_fields', 'target_fields', 'text', 'label'])"
            ]
          },
          "metadata": {
            "tags": []
          },
          "execution_count": 9
        }
      ]
    },
    {
      "cell_type": "markdown",
      "metadata": {
        "id": "AUY-eIBJnKn0",
        "colab_type": "text"
      },
      "source": [
        "### Define the RNN-based text classification model (10 points)"
      ]
    },
    {
      "cell_type": "markdown",
      "metadata": {
        "id": "eseS-_GdnKn0",
        "colab_type": "text"
      },
      "source": [
        "Start simple first. Implement the model according to the shema below.  \n",
        "![alt text](https://miro.medium.com/max/1396/1*v-tLYQCsni550A-hznS0mw.jpeg)\n"
      ]
    },
    {
      "cell_type": "code",
      "metadata": {
        "id": "r72h5wzxnKn1",
        "colab_type": "code",
        "colab": {}
      },
      "source": [
        "class RNNBaseline(nn.Module):\n",
        "    def __init__(self, hidden_dim, emb_dim, vocab_size):\n",
        "        super().__init__()\n",
        "\n",
        "        self.hidden_dim = hidden_dim\n",
        "        self.emb_dim = emb_dim\n",
        "        self.vocab_size = vocab_size\n",
        "\n",
        "        self.encoder = nn.Embedding(vocab_size, emb_dim)\n",
        "        self.gru = nn.GRU(emb_dim, hidden_dim, bidirectional=True, batch_first=True, dropout=0.1)\n",
        "        self.decoder = nn.Linear(hidden_dim, 1)\n",
        "        self.sgm = nn.Sigmoid()\n",
        "\n",
        "    def forward(self, seq):\n",
        "        embs = self.encoder(seq.permute(1,0))\n",
        "        out, hidden = self.gru(embs)\n",
        "        out = self.decoder(hidden[-1])\n",
        "        preds = self.sgm(out)\n",
        "        return preds.squeeze(1)"
      ],
      "execution_count": 0,
      "outputs": []
    },
    {
      "cell_type": "code",
      "metadata": {
        "id": "hGPkZKS4nKn6",
        "colab_type": "code",
        "outputId": "ce9f9082-003e-49cb-e74a-34d1268e9ef0",
        "colab": {
          "base_uri": "https://localhost:8080/",
          "height": 173
        }
      },
      "source": [
        "em_sz = 200\n",
        "nh = 300\n",
        "model = RNNBaseline(hidden_dim = nh, emb_dim=em_sz, vocab_size=len(TEXT.vocab)); model"
      ],
      "execution_count": 11,
      "outputs": [
        {
          "output_type": "stream",
          "text": [
            "/usr/local/lib/python3.6/dist-packages/torch/nn/modules/rnn.py:50: UserWarning: dropout option adds dropout after all but last recurrent layer, so non-zero dropout expects num_layers greater than 1, but got dropout=0.1 and num_layers=1\n",
            "  \"num_layers={}\".format(dropout, num_layers))\n"
          ],
          "name": "stderr"
        },
        {
          "output_type": "execute_result",
          "data": {
            "text/plain": [
              "RNNBaseline(\n",
              "  (encoder): Embedding(202042, 200)\n",
              "  (gru): GRU(200, 300, batch_first=True, dropout=0.1, bidirectional=True)\n",
              "  (decoder): Linear(in_features=300, out_features=1, bias=True)\n",
              "  (sgm): Sigmoid()\n",
              ")"
            ]
          },
          "metadata": {
            "tags": []
          },
          "execution_count": 11
        }
      ]
    },
    {
      "cell_type": "markdown",
      "metadata": {
        "id": "mENKjcYInKn9",
        "colab_type": "text"
      },
      "source": [
        "If you're using a GPU, remember to call model.cuda() to move your model to the GPU."
      ]
    },
    {
      "cell_type": "code",
      "metadata": {
        "id": "Hxn-YJufnKn9",
        "colab_type": "code",
        "outputId": "e5edf911-4b95-483b-df12-943f036e39bf",
        "colab": {
          "base_uri": "https://localhost:8080/",
          "height": 119
        }
      },
      "source": [
        "model.cuda()"
      ],
      "execution_count": 12,
      "outputs": [
        {
          "output_type": "execute_result",
          "data": {
            "text/plain": [
              "RNNBaseline(\n",
              "  (encoder): Embedding(202042, 200)\n",
              "  (gru): GRU(200, 300, batch_first=True, dropout=0.1, bidirectional=True)\n",
              "  (decoder): Linear(in_features=300, out_features=1, bias=True)\n",
              "  (sgm): Sigmoid()\n",
              ")"
            ]
          },
          "metadata": {
            "tags": []
          },
          "execution_count": 12
        }
      ]
    },
    {
      "cell_type": "markdown",
      "metadata": {
        "id": "LpTFiLDgnKoB",
        "colab_type": "text"
      },
      "source": [
        "### The training loop (3 points)"
      ]
    },
    {
      "cell_type": "markdown",
      "metadata": {
        "id": "LMiE3IBynKoB",
        "colab_type": "text"
      },
      "source": [
        "Define the optimization and the loss functions."
      ]
    },
    {
      "cell_type": "code",
      "metadata": {
        "id": "QVZ9mUjlnKoC",
        "colab_type": "code",
        "colab": {}
      },
      "source": [
        "opt = torch.optim.Adam(model.parameters(), lr=0.001)\n",
        "loss_func = nn.BCELoss(reduction='sum')"
      ],
      "execution_count": 0,
      "outputs": []
    },
    {
      "cell_type": "markdown",
      "metadata": {
        "id": "5HCqd4psnKoF",
        "colab_type": "text"
      },
      "source": [
        "Define the stopping criteria."
      ]
    },
    {
      "cell_type": "code",
      "metadata": {
        "id": "xMBjlDDKnKoF",
        "colab_type": "code",
        "colab": {}
      },
      "source": [
        "epochs = 3"
      ],
      "execution_count": 0,
      "outputs": []
    },
    {
      "cell_type": "code",
      "metadata": {
        "id": "FzmMiroonKoJ",
        "colab_type": "code",
        "outputId": "210398fc-d48d-4d2b-c0bc-ce2f1d5eac29",
        "colab": {
          "base_uri": "https://localhost:8080/",
          "height": 102
        }
      },
      "source": [
        "%%time\n",
        "losses_train, losses_val = [], []\n",
        "for epoch in range(1, epochs + 1):\n",
        "    running_loss = 0.0\n",
        "    running_corrects = 0\n",
        "    model.train() \n",
        "    for batch in train_iter: \n",
        "        \n",
        "        x = batch.text\n",
        "        y = batch.label\n",
        "        opt.zero_grad()\n",
        "        preds = model(x)   \n",
        "        loss = loss_func(preds.to(dtype=torch.float32), y.to(dtype=torch.float32))\n",
        "        loss.backward()\n",
        "        opt.step()\n",
        "        running_loss += loss.item()\n",
        "\n",
        "    epoch_loss = running_loss / len(trn)\n",
        "    losses_train.append(epoch_loss)\n",
        "\n",
        "    val_loss = 0.0\n",
        "    model.eval()\n",
        "    for batch in val_iter:\n",
        "        with torch.no_grad():    \n",
        "            x = batch.text\n",
        "            y = batch.label\n",
        "        \n",
        "            preds = model(x) \n",
        "            loss = loss_func(preds.to(dtype=torch.float32), y.to(dtype=torch.float32))\n",
        "            val_loss += loss.item()\n",
        "    val_loss /= len(vld)\n",
        "    losses_val.append(val_loss)\n",
        "    print('Epoch: {}, Training Loss: {}, Validation Loss: {}'.format(epoch, epoch_loss, val_loss))"
      ],
      "execution_count": 15,
      "outputs": [
        {
          "output_type": "stream",
          "text": [
            "Epoch: 1, Training Loss: 0.6739475407191685, Validation Loss: 0.5926405295054118\n",
            "Epoch: 2, Training Loss: 0.5020223389761789, Validation Loss: 0.40146809151967366\n",
            "Epoch: 3, Training Loss: 0.2558249348504203, Validation Loss: 0.3442785905838013\n",
            "CPU times: user 3min 45s, sys: 2min 3s, total: 5min 48s\n",
            "Wall time: 5min 49s\n"
          ],
          "name": "stdout"
        }
      ]
    },
    {
      "cell_type": "code",
      "metadata": {
        "id": "hocOmddgYHM5",
        "colab_type": "code",
        "outputId": "d500338c-7c28-4428-8011-f7f574e26b8c",
        "colab": {
          "base_uri": "https://localhost:8080/",
          "height": 500
        }
      },
      "source": [
        "import matplotlib.pyplot as plt\n",
        "\n",
        "plt.figure(figsize=(12,8))\n",
        "plt.plot(losses_train, label='train')\n",
        "plt.plot(losses_val, label='val')\n",
        "plt.legend(loc='best')"
      ],
      "execution_count": 16,
      "outputs": [
        {
          "output_type": "execute_result",
          "data": {
            "text/plain": [
              "<matplotlib.legend.Legend at 0x7f9fe0b3f048>"
            ]
          },
          "metadata": {
            "tags": []
          },
          "execution_count": 16
        },
        {
          "output_type": "display_data",
          "data": {
            "image/png": "[encoded data removed]",
            "text/plain": [
              "<Figure size 864x576 with 1 Axes>"
            ]
          },
          "metadata": {
            "tags": []
          }
        }
      ]
    },
    {
      "cell_type": "markdown",
      "metadata": {
        "id": "hFVpsFr7nKoM",
        "colab_type": "text"
      },
      "source": [
        "### Calculate performance of the trained model (5 points)"
      ]
    },
    {
      "cell_type": "code",
      "metadata": {
        "id": "x0ymPwgmnKoN",
        "colab_type": "code",
        "outputId": "ab054eda-bcf1-4cb4-d3a6-afdfd76fa69b",
        "colab": {
          "base_uri": "https://localhost:8080/",
          "height": 34
        }
      },
      "source": [
        "tn = 0\n",
        "tp = 0\n",
        "fp = 0\n",
        "fn = 0\n",
        "total = 0\n",
        "\n",
        "for batch in test_iter:\n",
        "    accuracies, rcl, precs, f1s = [], [], [], []\n",
        "    model.eval()\n",
        "    x = batch.text\n",
        "    out = torch.round(model(x))\n",
        "    out = out.detach().cpu().numpy()\n",
        "    y = batch.label.to(torch.float32).detach().cpu().numpy()\n",
        "    total += len(y)\n",
        "    tp += (out * y).sum()\n",
        "    tn += ((1 - out) * (1 - y)).sum()\n",
        "    fp += (out * (1 - y)).sum()\n",
        "    fn += ((1-out) * y).sum()\n",
        "\n",
        "recall = tp /float(tp+fn)\n",
        "precision = tp/float(tp+fp)\n",
        "f1 = (2*tp)/float(2*tp+fp+fn)\n",
        "accuracy = (tp+tn) / float(total)\n",
        "\n",
        "print('Accuracy score:{}, recall:{}, f1-score:{}, precision:{}'.format(accuracy, recall, f1, precision))"
      ],
      "execution_count": 24,
      "outputs": [
        {
          "output_type": "stream",
          "text": [
            "Accuracy score:0.84312, recall:0.89552, f1-score:0.8509312048650703, precision:0.8105720492396814\n"
          ],
          "name": "stdout"
        }
      ]
    },
    {
      "cell_type": "markdown",
      "metadata": {
        "id": "TvaC-brBnKoQ",
        "colab_type": "text"
      },
      "source": [
        "Write down the calculated performance\n",
        "\n",
        "### Accuracy: 0.84\n",
        "### Precision:0.81\n",
        "### Recall: 0.89\n",
        "### F1: 0.85"
      ]
    },
    {
      "cell_type": "markdown",
      "metadata": {
        "id": "YsLfKVMlnKoR",
        "colab_type": "text"
      },
      "source": [
        "### Experiments (10 points)\n",
        "\n",
        "Experiment with the model and achieve better results. You can find advices [here](https://arxiv.org/abs/1801.06146). Implement and describe your experiments in details, mention what was helpful."
      ]
    },
    {
      "cell_type": "markdown",
      "metadata": {
        "id": "3Db-E9RbnKoR",
        "colab_type": "text"
      },
      "source": [
        "### 1. First try: simple tuning: increased dropout in the 2-layer gru, added linear layer and activation function between them: Accuracy score:0.86, recall:0.86, f1-score:0.86, precision:0.86\n",
        "### 2. Pretrained embeddings: Accuracy score:0.84, recall:0.92, f1-score:0.85, precision:0.79"
      ]
    },
    {
      "cell_type": "code",
      "metadata": {
        "id": "GT17qOLb5bAt",
        "colab_type": "code",
        "colab": {}
      },
      "source": [
        "class RNN_2(nn.Module):\n",
        "    def __init__(self, hidden_dim, emb_dim, vocab_size):\n",
        "        super().__init__()\n",
        "\n",
        "        self.hidden_dim = hidden_dim\n",
        "        self.emb_dim = emb_dim\n",
        "        self.vocab_size = vocab_size\n",
        "\n",
        "        self.encoder = nn.Embedding(vocab_size, emb_dim, padding_idx=1)\n",
        "        self.gru = nn.GRU(emb_dim, hidden_dim, bidirectional=True, batch_first=True, dropout=0.5, num_layers=2)\n",
        "        self.decoder_1 = nn.Linear(hidden_dim, 64)\n",
        "        self.decoder_2 = nn.Linear(64, 1)\n",
        "        self.act = nn.ReLU()\n",
        "        self.sgm = nn.Sigmoid()\n",
        "\n",
        "    def forward(self, seq):\n",
        "        embs = self.encoder(seq.permute(1,0))\n",
        "        out, hidden = self.gru(embs)\n",
        "        out = self.act(self.decoder_1(hidden[-1]))\n",
        "        out = self.decoder_2(out)\n",
        "        preds = self.sgm(out)\n",
        "        return preds.squeeze(1)"
      ],
      "execution_count": 0,
      "outputs": []
    },
    {
      "cell_type": "code",
      "metadata": {
        "id": "9HYMZ7cjl7tJ",
        "colab_type": "code",
        "colab": {}
      },
      "source": [
        "em_sz = 200\n",
        "nh = 300\n",
        "model = RNN_2(hidden_dim = nh, emb_dim=em_sz, vocab_size=len(TEXT.vocab)); model\n",
        "model.cuda()\n",
        "opt = torch.optim.Adam(model.parameters(), lr=0.001)\n",
        "loss_func = nn.BCELoss(reduction='sum')"
      ],
      "execution_count": 0,
      "outputs": []
    },
    {
      "cell_type": "code",
      "metadata": {
        "id": "fp4ept0amCX0",
        "colab_type": "code",
        "outputId": "85287967-ca65-4ce7-ff36-d6657d0a0b2c",
        "colab": {
          "base_uri": "https://localhost:8080/",
          "height": 568
        }
      },
      "source": [
        "%%time\n",
        "losses_train, losses_val = [], []\n",
        "for epoch in range(1, epochs + 1):\n",
        "    running_loss = 0.0\n",
        "    running_corrects = 0\n",
        "    model.train() \n",
        "    for batch in train_iter: \n",
        "        \n",
        "        x = batch.text\n",
        "        y = batch.label\n",
        "        opt.zero_grad()\n",
        "        preds = model(x)   \n",
        "        loss = loss_func(preds.to(dtype=torch.float32), y.to(dtype=torch.float32))\n",
        "        loss.backward()\n",
        "        opt.step()\n",
        "        running_loss += loss.item()\n",
        "\n",
        "    epoch_loss = running_loss / len(trn)\n",
        "    losses_train.append(epoch_loss)\n",
        "\n",
        "    val_loss = 0.0\n",
        "    model.eval()\n",
        "    for batch in val_iter:\n",
        "        with torch.no_grad():    \n",
        "            x = batch.text\n",
        "            y = batch.label\n",
        "        \n",
        "            preds = model(x) \n",
        "            loss = loss_func(preds.to(dtype=torch.float32), y.to(dtype=torch.float32))\n",
        "            val_loss += loss.item()\n",
        "    val_loss /= len(vld)\n",
        "    losses_val.append(val_loss)\n",
        "    print('Epoch: {}, Training Loss: {}, Validation Loss: {}'.format(epoch, epoch_loss, val_loss))\n",
        "\n",
        "plt.figure(figsize=(12,8))\n",
        "plt.plot(losses_train, label='train')\n",
        "plt.plot(losses_val, label='val')\n",
        "plt.legend(loc='best')"
      ],
      "execution_count": 27,
      "outputs": [
        {
          "output_type": "stream",
          "text": [
            "Epoch: 1, Training Loss: 0.642395021384103, Validation Loss: 0.5625353937149048\n",
            "Epoch: 2, Training Loss: 0.3813996368408203, Validation Loss: 0.36222289474805197\n",
            "Epoch: 3, Training Loss: 0.16708529329299926, Validation Loss: 0.32851530367533366\n",
            "CPU times: user 9min 56s, sys: 6min 8s, total: 16min 4s\n",
            "Wall time: 16min 6s\n"
          ],
          "name": "stdout"
        },
        {
          "output_type": "display_data",
          "data": {
            "image/png": "[encoded data removed]",
            "text/plain": [
              "<Figure size 864x576 with 1 Axes>"
            ]
          },
          "metadata": {
            "tags": []
          }
        }
      ]
    },
    {
      "cell_type": "code",
      "metadata": {
        "id": "ZbHx4xPho6Ei",
        "colab_type": "code",
        "outputId": "4e998bab-2a18-4f0a-b1a2-fce27d1c6059",
        "colab": {
          "base_uri": "https://localhost:8080/",
          "height": 34
        }
      },
      "source": [
        "tn = 0\n",
        "tp = 0\n",
        "fp = 0\n",
        "fn = 0\n",
        "total = 0\n",
        "\n",
        "for batch in test_iter:\n",
        "    accuracies, rcl, precs, f1s = [], [], [], []\n",
        "    model.eval()\n",
        "    x = batch.text\n",
        "    out = torch.round(model(x))\n",
        "    out = out.detach().cpu().numpy()\n",
        "    y = batch.label.to(torch.float32).detach().cpu().numpy()\n",
        "    total += len(y)\n",
        "    tp += (out * y).sum()\n",
        "    tn += ((1 - out) * (1 - y)).sum()\n",
        "    fp += (out * (1 - y)).sum()\n",
        "    fn += ((1-out) * y).sum()\n",
        "\n",
        "recall = tp /float(tp+fn)\n",
        "precision = tp/float(tp+fp)\n",
        "f1 = (2*tp)/float(2*tp+fp+fn)\n",
        "accuracy = (tp+tn) / float(total)\n",
        "\n",
        "print('Accuracy score:{}, recall:{}, f1-score:{}, precision:{}'.format(accuracy, recall, f1, precision))"
      ],
      "execution_count": 28,
      "outputs": [
        {
          "output_type": "stream",
          "text": [
            "Accuracy score:0.85868, recall:0.86192, f1-score:0.8591363980702523, precision:0.8563707177489865\n"
          ],
          "name": "stdout"
        }
      ]
    },
    {
      "cell_type": "markdown",
      "metadata": {
        "id": "9QvHQPcasB3M",
        "colab_type": "text"
      },
      "source": [
        "## Now let's try to use pretrained embeddings in our NN. "
      ]
    },
    {
      "cell_type": "code",
      "metadata": {
        "id": "-oLpLIGwZYrL",
        "colab_type": "code",
        "colab": {
          "base_uri": "https://localhost:8080/",
          "height": 51
        },
        "outputId": "ad86970d-8a57-4936-8556-4db30299f7d4"
      },
      "source": [
        "TEXT.vocab.load_vectors('glove.6B.300d')\n",
        "batch = next(train_iter.__iter__()); \n",
        "batch.text.shape"
      ],
      "execution_count": 29,
      "outputs": [
        {
          "output_type": "stream",
          "text": [
            ".vector_cache/glove.6B.zip: 862MB [06:30, 2.21MB/s]                           \n",
            "100%|█████████▉| 399469/400000 [00:55<00:00, 7097.19it/s]"
          ],
          "name": "stderr"
        },
        {
          "output_type": "execute_result",
          "data": {
            "text/plain": [
              "torch.Size([1148, 64])"
            ]
          },
          "metadata": {
            "tags": []
          },
          "execution_count": 29
        }
      ]
    },
    {
      "cell_type": "markdown",
      "metadata": {
        "id": "GdE_UJUzc1cw",
        "colab_type": "text"
      },
      "source": [
        "same model, same everything"
      ]
    },
    {
      "cell_type": "code",
      "metadata": {
        "id": "RayDnoDna6nc",
        "colab_type": "code",
        "colab": {}
      },
      "source": [
        "em_sz = 200\n",
        "nh = 300\n",
        "model = RNN_2(hidden_dim = nh, emb_dim=em_sz, vocab_size=len(TEXT.vocab)); model\n",
        "model.cuda()\n",
        "opt = torch.optim.Adam(model.parameters(), lr=0.005)\n",
        "loss_func = nn.BCELoss(reduction='sum')"
      ],
      "execution_count": 0,
      "outputs": []
    },
    {
      "cell_type": "code",
      "metadata": {
        "id": "towKif8Jc42R",
        "colab_type": "code",
        "colab": {
          "base_uri": "https://localhost:8080/",
          "height": 551
        },
        "outputId": "1b0347d3-cb58-4ba9-9ed4-cf398d3440e4"
      },
      "source": [
        "%%time\n",
        "losses_train, losses_val = [], []\n",
        "for epoch in range(1, epochs):\n",
        "    running_loss = 0.0\n",
        "    running_corrects = 0\n",
        "    model.train() \n",
        "    for batch in train_iter: \n",
        "        \n",
        "        x = batch.text\n",
        "        y = batch.label\n",
        "        opt.zero_grad()\n",
        "        preds = model(x)   \n",
        "        loss = loss_func(preds.to(dtype=torch.float32), y.to(dtype=torch.float32))\n",
        "        loss.backward()\n",
        "        opt.step()\n",
        "        running_loss += loss.item()\n",
        "\n",
        "    epoch_loss = running_loss / len(trn)\n",
        "    losses_train.append(epoch_loss)\n",
        "\n",
        "    val_loss = 0.0\n",
        "    model.eval()\n",
        "    for batch in val_iter:\n",
        "        with torch.no_grad():    \n",
        "            x = batch.text\n",
        "            y = batch.label\n",
        "        \n",
        "            preds = model(x) \n",
        "            loss = loss_func(preds.to(dtype=torch.float32), y.to(dtype=torch.float32))\n",
        "            val_loss += loss.item()\n",
        "    val_loss /= len(vld)\n",
        "    losses_val.append(val_loss)\n",
        "    print('Epoch: {}, Training Loss: {}, Validation Loss: {}'.format(epoch, epoch_loss, val_loss))\n",
        "\n",
        "plt.figure(figsize=(12,8))\n",
        "plt.plot(losses_train, label='train')\n",
        "plt.plot(losses_val, label='val')\n",
        "plt.legend(loc='best')"
      ],
      "execution_count": 34,
      "outputs": [
        {
          "output_type": "stream",
          "text": [
            "Epoch: 1, Training Loss: 0.5703174867902483, Validation Loss: 0.3808939575831095\n",
            "Epoch: 2, Training Loss: 0.24286129294804165, Validation Loss: 0.34519115953445434\n",
            "CPU times: user 6min 38s, sys: 4min 3s, total: 10min 41s\n",
            "Wall time: 10min 42s\n"
          ],
          "name": "stdout"
        },
        {
          "output_type": "display_data",
          "data": {
            "image/png": "[encoded data removed]",
            "text/plain": [
              "<Figure size 864x576 with 1 Axes>"
            ]
          },
          "metadata": {
            "tags": []
          }
        }
      ]
    },
    {
      "cell_type": "code",
      "metadata": {
        "id": "hmNR0zw_c-rA",
        "colab_type": "code",
        "colab": {
          "base_uri": "https://localhost:8080/",
          "height": 34
        },
        "outputId": "f6be8c80-22b9-42a3-e453-e45be9324ee6"
      },
      "source": [
        "tn = 0\n",
        "tp = 0\n",
        "fp = 0\n",
        "fn = 0\n",
        "total = 0\n",
        "\n",
        "for batch in test_iter:\n",
        "    accuracies, rcl, precs, f1s = [], [], [], []\n",
        "    model.eval()\n",
        "    x = batch.text\n",
        "    out = torch.round(model(x))\n",
        "    out = out.detach().cpu().numpy()\n",
        "    y = batch.label.to(torch.float32).detach().cpu().numpy()\n",
        "    total += len(y)\n",
        "    tp += (out * y).sum()\n",
        "    tn += ((1 - out) * (1 - y)).sum()\n",
        "    fp += (out * (1 - y)).sum()\n",
        "    fn += ((1-out) * y).sum()\n",
        "\n",
        "recall = tp /float(tp+fn)\n",
        "precision = tp/float(tp+fp)\n",
        "f1 = (2*tp)/float(2*tp+fp+fn)\n",
        "accuracy = (tp+tn) / float(total)\n",
        "\n",
        "print('Accuracy score:{}, recall:{}, f1-score:{}, precision:{}'.format(round(accuracy,2), round(recall,2), round(f1,2), round(precision,2)))"
      ],
      "execution_count": 35,
      "outputs": [
        {
          "output_type": "stream",
          "text": [
            "Accuracy score:0.84, recall:0.92, f1-score:0.85, precision:0.79\n"
          ],
          "name": "stdout"
        }
      ]
    },
    {
      "cell_type": "code",
      "metadata": {
        "id": "lLKcxoXieLA8",
        "colab_type": "code",
        "colab": {}
      },
      "source": [
        ""
      ],
      "execution_count": 0,
      "outputs": []
    }
  ]
}