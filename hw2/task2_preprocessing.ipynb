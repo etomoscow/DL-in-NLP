{
  "nbformat": 4,
  "nbformat_minor": 0,
  "metadata": {
    "kernelspec": {
      "display_name": "Python 3",
      "language": "python",
      "name": "python3"
    },
    "language_info": {
      "codemirror_mode": {
        "name": "ipython",
        "version": 3
      },
      "file_extension": ".py",
      "mimetype": "text/x-python",
      "name": "python",
      "nbconvert_exporter": "python",
      "pygments_lexer": "ipython3",
      "version": "3.6.10"
    },
    "colab": {
      "name": "task2_preprocessing.ipynb",
      "provenance": []
    }
  },
  "cells": [
    {
      "cell_type": "markdown",
      "metadata": {
        "id": "kOfX8UPRA7YJ",
        "colab_type": "text"
      },
      "source": [
        "# Assignment 1.2: Word2vec preprocessing (20 points)"
      ]
    },
    {
      "cell_type": "markdown",
      "metadata": {
        "id": "SNy0lUlSA7YM",
        "colab_type": "text"
      },
      "source": [
        "Preprocessing is not the most exciting part of NLP, but it is still one of the most important ones. Your task is to preprocess raw text (you can use your own, or [this one](http://mattmahoney.net/dc/text8.zip). For this task text preprocessing mostly consists of:\n",
        "\n",
        "1. cleaning (mostly, if your dataset is from social media or parsed from the internet)\n",
        "1. tokenization\n",
        "1. building the vocabulary and choosing its size. Use only high-frequency words, change all other words to UNK or handle it in your own manner. You can use `collections.Counter` for that.\n",
        "1. assigning each token a number (numericalization). In other words, make word2index и index2word objects.\n",
        "1. data structuring and batching - make X and y matrices generator for word2vec (explained in more details below)\n",
        "\n",
        "**ATTN!:** If you use your own data, please, attach a download link. \n",
        "\n",
        "Your goal is to make **Batcher** class which returns two numpy tensors with word indices. It should be possible to use one for word2vec training. You can implement batcher for Skip-Gram or CBOW architecture, the picture below can be helpful to remember the difference.\n",
        "\n",
        "![text](https://raw.githubusercontent.com/deepmipt/deep-nlp-seminars/651804899d05b96fc72b9474404fab330365ca09/seminar_02/pics/architecture.png)\n",
        "\n",
        "There are several ways to do it right. Shapes could be `x_batch.shape = (batch_size, 2*window_size)`, `y_batch.shape = (batch_size,)` for CBOW or `(batch_size,)`, `(batch_size, 2*window_size)` for Skip-Gram. You should **not** do negative sampling here.\n",
        "\n",
        "They should be adequately parametrized: CBOW(window_size, ...), SkipGram(window_size, ...). You should implement only one batcher in this task; and it's up to you which one to chose.\n",
        "\n",
        "Useful links:\n",
        "1. [Word2Vec Tutorial - The Skip-Gram Model](http://mccormickml.com/2016/04/19/word2vec-tutorial-the-skip-gram-model/)\n",
        "1. [Efficient Estimation of Word Representations in Vector Space](https://arxiv.org/pdf/1301.3781.pdf)\n",
        "1. [Distributed Representations of Words and Phrases and their Compositionality](http://papers.nips.cc/paper/5021-distributed-representations-of-words-and-phrases-and-their-compositionality.pdf)\n",
        "\n",
        "You can write the code in this notebook, or in a separate file. It can be reused for the next task. The result of your work should represent that your batch has a proper structure (right shapes) and content (words should be from one context, not some random indices). To show that, translate indices back to words and print them to show something like this:\n",
        "\n",
        "```\n",
        "text = ['first', 'used', 'against', 'early', 'working', 'class', 'radicals', 'including']\n",
        "\n",
        "window_size = 2\n",
        "\n",
        "# CBOW:\n",
        "indices_to_words(x_batch) = \\\n",
        "        [['first', 'used', 'early', 'working'],\n",
        "        ['used', 'against', 'working', 'class'],\n",
        "        ['against', 'early', 'class', 'radicals'],\n",
        "        ['early', 'working', 'radicals', 'including']]\n",
        "\n",
        "indices_to_words(labels_batch) = ['against', 'early', 'working', 'class']\n",
        "```"
      ]
    },
    {
      "cell_type": "code",
      "metadata": {
        "id": "qVicIvH2J2Gw",
        "colab_type": "code",
        "colab": {}
      },
      "source": [
        "import os, math, random, torch, collections, re\n",
        "import torch.nn as nn"
      ],
      "execution_count": 0,
      "outputs": []
    },
    {
      "cell_type": "code",
      "metadata": {
        "id": "YUv6YXdxBe7J",
        "colab_type": "code",
        "outputId": "9256b8dc-7f90-46a4-fbae-57d7f9cd1911",
        "colab": {
          "base_uri": "https://localhost:8080/",
          "height": 236
        }
      },
      "source": [
        "!wget http://mattmahoney.net/dc/text8.zip\n",
        "!unzip text8.zip\n",
        "with open('text8') as text_file:\n",
        "    corpus = text_file.read().split()"
      ],
      "execution_count": 2,
      "outputs": [
        {
          "output_type": "stream",
          "text": [
            "--2020-02-18 13:39:28--  http://mattmahoney.net/dc/text8.zip\n",
            "Resolving mattmahoney.net (mattmahoney.net)... 67.195.197.75\n",
            "Connecting to mattmahoney.net (mattmahoney.net)|67.195.197.75|:80... connected.\n",
            "HTTP request sent, awaiting response... 200 OK\n",
            "Length: 31344016 (30M) [application/zip]\n",
            "Saving to: ‘text8.zip’\n",
            "\n",
            "text8.zip           100%[===================>]  29.89M   830KB/s    in 38s     \n",
            "\n",
            "2020-02-18 13:40:07 (806 KB/s) - ‘text8.zip’ saved [31344016/31344016]\n",
            "\n",
            "Archive:  text8.zip\n",
            "  inflating: text8                   \n"
          ],
          "name": "stdout"
        }
      ]
    },
    {
      "cell_type": "code",
      "metadata": {
        "id": "yEkO1B8rLiSc",
        "colab_type": "code",
        "colab": {}
      },
      "source": [
        "def cleaner(corpus):\n",
        "    for word in corpus:\n",
        "        word = word.lower()\n",
        "        word = re.sub('\\s+','', word)\n",
        "        word = re.sub('\\d+','', word)\n",
        "        word = re.sub('\\W','', word)\n",
        "    return corpus"
      ],
      "execution_count": 0,
      "outputs": []
    },
    {
      "cell_type": "code",
      "metadata": {
        "id": "runtl-eru9Cy",
        "colab_type": "code",
        "colab": {}
      },
      "source": [
        "corpus_clean = cleaner(corpus)"
      ],
      "execution_count": 0,
      "outputs": []
    },
    {
      "cell_type": "code",
      "metadata": {
        "id": "0USDdLefNOLd",
        "colab_type": "code",
        "colab": {}
      },
      "source": [
        "VOCABULARY_SIZE = 17000\n",
        "UNK = '<UNK>'\n",
        "\n",
        "def create_dataset(corpus, vocab_size=VOCABULARY_SIZE, unk_token=UNK):\n",
        "    dataset = []\n",
        "    counter = collections.Counter(corpus)\n",
        "    vocab = counter.most_common(VOCABULARY_SIZE)\n",
        "    words = [x[0] for x in vocab]\n",
        "    words.append(unk_token)\n",
        "    min_allowed_freq = vocab[-1][1]\n",
        "\n",
        "    #use only high-frequency words\n",
        "    #change all other words to UNK\n",
        "    for _, w in enumerate(words):\n",
        "        if counter[w] < min_allowed_freq:\n",
        "            dataset.append(unk_token)\n",
        "        elif counter[w] > min_allowed_freq:\n",
        "            dataset.append(w)\n",
        "    word2idx = {(word, idx) for idx, word in enumerate(words)}\n",
        "    idx2word = {(idx, word) for idx, word in enumerate(words)}\n",
        "    return dataset, word2idx, idx2word"
      ],
      "execution_count": 0,
      "outputs": []
    },
    {
      "cell_type": "code",
      "metadata": {
        "id": "b0yhrhi_kVfM",
        "colab_type": "code",
        "colab": {}
      },
      "source": [
        "data, word2idx, idx2word = create_dataset(corpus=corpus_clean)"
      ],
      "execution_count": 0,
      "outputs": []
    },
    {
      "cell_type": "code",
      "metadata": {
        "id": "itr8TJ54A7YN",
        "colab_type": "code",
        "colab": {}
      },
      "source": [
        "class Batcher(object):\n",
        "\n",
        "    def __init__(self,dataset, window_size, batch_size):\n",
        "        self.dataset = dataset\n",
        "        self.batch_size = batch_size\n",
        "        self.window_size = window_size\n",
        "    \n",
        "    def __iter__(self):\n",
        "        return self\n",
        "    \n",
        "    def __next__(self, index=0):\n",
        "        \n",
        "        batch_size = self.batch_size\n",
        "        window_size = self.window_size\n",
        "        dataset = self.dataset\n",
        "\n",
        "        context = collections.deque(maxlen=2*window_size+1)"
      ],
      "execution_count": 0,
      "outputs": []
    }
  ]
}