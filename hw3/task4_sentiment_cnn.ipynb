{
  "nbformat": 4,
  "nbformat_minor": 0,
  "metadata": {
    "kernelspec": {
      "name": "python3",
      "display_name": "Python 3"
    },
    "language_info": {
      "codemirror_mode": {
        "name": "ipython",
        "version": 3
      },
      "file_extension": ".py",
      "mimetype": "text/x-python",
      "name": "python",
      "nbconvert_exporter": "python",
      "pygments_lexer": "ipython3",
      "version": "3.6.9"
    },
    "colab": {
      "name": "task4_sentiment_cnn.ipynb",
      "provenance": [],
      "include_colab_link": true
    },
    "accelerator": "GPU"
  },
  "cells": [
    {
      "cell_type": "markdown",
      "metadata": {
        "id": "view-in-github",
        "colab_type": "text"
      },
      "source": [
        "<a href=\"https://colab.research.google.com/github/etomoscow/DL-in-NLP/blob/master/hw3/task4_sentiment_cnn.ipynb\" target=\"_parent\"><img src=\"https://colab.research.google.com/assets/colab-badge.svg\" alt=\"Open In Colab\"/></a>"
      ]
    },
    {
      "cell_type": "markdown",
      "metadata": {
        "id": "xNKbmhbwU-fS",
        "colab_type": "text"
      },
      "source": [
        "## Assignment 2.4: Text classification via CNN (20 points)"
      ]
    },
    {
      "cell_type": "markdown",
      "metadata": {
        "id": "cXe3uSABU-fT",
        "colab_type": "text"
      },
      "source": [
        "In this assignment you should perform sentiment analysis of the IMDB reviews based on CNN architecture. Read carefully [Convolutional Neural Networks for Sentence Classification](https://arxiv.org/pdf/1408.5882.pdf) by Yoon Kim."
      ]
    },
    {
      "cell_type": "code",
      "metadata": {
        "id": "uUjT2NBbU-fU",
        "colab_type": "code",
        "colab": {}
      },
      "source": [
        "import numpy as np\n",
        "import torch\n",
        "\n",
        "import torch.nn as nn\n",
        "import torch.nn.functional as F\n",
        "import torch.optim as optim\n",
        "\n",
        "from torchtext import datasets\n",
        "from torchtext.data import Field, LabelField\n",
        "from torchtext.data import BucketIterator"
      ],
      "execution_count": 0,
      "outputs": []
    },
    {
      "cell_type": "markdown",
      "metadata": {
        "id": "4-aB34JbU-fY",
        "colab_type": "text"
      },
      "source": [
        "### Preparing Data"
      ]
    },
    {
      "cell_type": "code",
      "metadata": {
        "id": "44NyMyYrU-fY",
        "colab_type": "code",
        "colab": {}
      },
      "source": [
        "TEXT = Field(sequential=True,\n",
        "             lower=True,\n",
        "             batch_first=True,\n",
        "             fix_length=200,\n",
        "             include_lengths=True\n",
        "             )\n",
        "LABEL = LabelField(batch_first=True)"
      ],
      "execution_count": 0,
      "outputs": []
    },
    {
      "cell_type": "code",
      "metadata": {
        "id": "j8PjFm8nU-fb",
        "colab_type": "code",
        "colab": {
          "base_uri": "https://localhost:8080/",
          "height": 51
        },
        "outputId": "87dea4bd-0027-4f6a-c22a-833a1d0801b8"
      },
      "source": [
        "train, tst = datasets.IMDB.splits(TEXT, LABEL)\n",
        "trn, vld = train.split()"
      ],
      "execution_count": 4,
      "outputs": [
        {
          "output_type": "stream",
          "text": [
            "downloading aclImdb_v1.tar.gz\n"
          ],
          "name": "stdout"
        },
        {
          "output_type": "stream",
          "text": [
            "aclImdb_v1.tar.gz: 100%|██████████| 84.1M/84.1M [00:09<00:00, 8.65MB/s]\n"
          ],
          "name": "stderr"
        }
      ]
    },
    {
      "cell_type": "code",
      "metadata": {
        "id": "W32nW_RKU-fe",
        "colab_type": "code",
        "colab": {
          "base_uri": "https://localhost:8080/",
          "height": 51
        },
        "outputId": "9f67a57d-f474-412c-b8cd-99edb960ec8f"
      },
      "source": [
        "%%time\n",
        "TEXT.build_vocab(trn)"
      ],
      "execution_count": 6,
      "outputs": [
        {
          "output_type": "stream",
          "text": [
            "CPU times: user 1.08 s, sys: 17.9 ms, total: 1.1 s\n",
            "Wall time: 1.1 s\n"
          ],
          "name": "stdout"
        }
      ]
    },
    {
      "cell_type": "code",
      "metadata": {
        "id": "0rQIS06DU-fi",
        "colab_type": "code",
        "colab": {}
      },
      "source": [
        "LABEL.build_vocab(trn)"
      ],
      "execution_count": 0,
      "outputs": []
    },
    {
      "cell_type": "markdown",
      "metadata": {
        "id": "7LBcvS2PU-fl",
        "colab_type": "text"
      },
      "source": [
        "### Creating the Iterator (2 points)"
      ]
    },
    {
      "cell_type": "markdown",
      "metadata": {
        "id": "bFcQdUPBU-fm",
        "colab_type": "text"
      },
      "source": [
        "Define an iterator here"
      ]
    },
    {
      "cell_type": "code",
      "metadata": {
        "id": "MfLcZ8twU-fm",
        "colab_type": "code",
        "colab": {}
      },
      "source": [
        "train_iter, val_iter, test_iter = BucketIterator.splits(\n",
        "        (trn, vld, tst),\n",
        "        batch_sizes=(64, 64, 64),\n",
        "        sort=False,\n",
        "        sort_key= lambda x: len(x.text),\n",
        "        sort_within_batch=False,\n",
        "        device='cuda',\n",
        "        repeat=False\n",
        ")"
      ],
      "execution_count": 0,
      "outputs": []
    },
    {
      "cell_type": "code",
      "metadata": {
        "id": "MVrIWvjv-b_V",
        "colab_type": "code",
        "colab": {}
      },
      "source": [
        "batch = next(train_iter.__iter__())"
      ],
      "execution_count": 0,
      "outputs": []
    },
    {
      "cell_type": "markdown",
      "metadata": {
        "id": "5peD6GdVU-fp",
        "colab_type": "text"
      },
      "source": [
        "### Define CNN-based text classification model (8 points)"
      ]
    },
    {
      "cell_type": "code",
      "metadata": {
        "id": "9ChqeI3cU-fq",
        "colab_type": "code",
        "colab": {}
      },
      "source": [
        "class CNN(nn.Module):\n",
        "    def __init__(self, V, D, kernel_sizes, stride=1, padding=0, dropout=0.5, out_channels=1):\n",
        "        super(CNN, self).__init__()\n",
        "        \n",
        "        self.V = V\n",
        "        self.D = D\n",
        "        self.kernel_sizes = kernel_sizes\n",
        "        self.stride = stride\n",
        "        self.padding = padding\n",
        "        self.dropout = dropout\n",
        "        self.out_channels = out_channels\n",
        "    \n",
        "        self.embs = nn.Embedding(V, D, padding_idx=1)\n",
        "        self.conv1 = nn.Conv2d(1, out_channels,(kernel_sizes[0], D))\n",
        "        self.conv2 = nn.Conv2d(1, out_channels, (kernel_sizes[1], D))\n",
        "        self.conv3 = nn.Conv2d(1, out_channels, (kernel_sizes[2], D))\n",
        "        self.dp = nn.Dropout(dropout)\n",
        "        self.lin = nn.Linear(len(kernel_sizes)*out_channels, 2)\n",
        "    \n",
        "    \n",
        "    def convolution_block(self, input, conv):\n",
        "        conved = conv(input)\n",
        "        act = F.relu(conved.squeeze(3))\n",
        "        out = F.max_pool1d(act, act.size()[2]).squeeze(2)\n",
        "\n",
        "        return out\n",
        "    def forward(self, x):\n",
        "        \n",
        "        x = self.embs(x).unsqueeze(1)\n",
        "        out1 = self.convolution_block(x, self.conv1)\n",
        "        out2 = self.convolution_block(x, self.conv2)\n",
        "        out3 = self.convolution_block(x, self.conv3)\n",
        "\n",
        "        concat = self.dp(torch.cat((out1, out2, out3), 1))\n",
        "        logit = self.lin(concat)\n",
        "        return logit"
      ],
      "execution_count": 0,
      "outputs": []
    },
    {
      "cell_type": "code",
      "metadata": {
        "id": "OBZiWL2gU-fs",
        "colab_type": "code",
        "colab": {}
      },
      "source": [
        "kernel_sizes = [3,4,5]\n",
        "vocab_size = len(TEXT.vocab)\n",
        "dropout = 0.3\n",
        "dim = 256\n",
        "\n",
        "model = CNN(vocab_size, dim, kernel_sizes, dropout)"
      ],
      "execution_count": 0,
      "outputs": []
    },
    {
      "cell_type": "code",
      "metadata": {
        "id": "xTK0EO7zU-fv",
        "colab_type": "code",
        "colab": {
          "base_uri": "https://localhost:8080/",
          "height": 153
        },
        "outputId": "e3657068-efcc-44da-b560-3ebba2ec2595"
      },
      "source": [
        "model.cuda()"
      ],
      "execution_count": 114,
      "outputs": [
        {
          "output_type": "execute_result",
          "data": {
            "text/plain": [
              "CNN(\n",
              "  (embs): Embedding(201649, 256, padding_idx=1)\n",
              "  (conv1): Conv2d(1, 1, kernel_size=(3, 256), stride=(1, 1))\n",
              "  (conv2): Conv2d(1, 1, kernel_size=(4, 256), stride=(1, 1))\n",
              "  (conv3): Conv2d(1, 1, kernel_size=(5, 256), stride=(1, 1))\n",
              "  (dp): Dropout(p=0.5, inplace=False)\n",
              "  (lin): Linear(in_features=3, out_features=2, bias=True)\n",
              ")"
            ]
          },
          "metadata": {
            "tags": []
          },
          "execution_count": 114
        }
      ]
    },
    {
      "cell_type": "markdown",
      "metadata": {
        "id": "XPFSMvIfU-fy",
        "colab_type": "text"
      },
      "source": [
        "### The training loop (3 points)"
      ]
    },
    {
      "cell_type": "markdown",
      "metadata": {
        "id": "TvSQD1ZVU-fy",
        "colab_type": "text"
      },
      "source": [
        "Define the optimization function and the loss functions."
      ]
    },
    {
      "cell_type": "code",
      "metadata": {
        "id": "kFk48mD3U-fz",
        "colab_type": "code",
        "colab": {}
      },
      "source": [
        "opt = optim.Adam(model.parameters(), lr=0.002)\n",
        "loss_func = nn.CrossEntropyLoss()"
      ],
      "execution_count": 0,
      "outputs": []
    },
    {
      "cell_type": "markdown",
      "metadata": {
        "id": "Smv08lRPU-f2",
        "colab_type": "text"
      },
      "source": [
        "Think carefully about the stopping criteria. "
      ]
    },
    {
      "cell_type": "code",
      "metadata": {
        "id": "ZLOeQhVjU-f3",
        "colab_type": "code",
        "colab": {}
      },
      "source": [
        "epochs = 10"
      ],
      "execution_count": 0,
      "outputs": []
    },
    {
      "cell_type": "code",
      "metadata": {
        "id": "i0uUXls3U-f6",
        "colab_type": "code",
        "colab": {
          "base_uri": "https://localhost:8080/",
          "height": 221
        },
        "outputId": "ea1115f5-945b-4ebc-c421-3cd5ad4ff242"
      },
      "source": [
        "%%time\n",
        "train_loss, valid_loss = [], []\n",
        "for epoch in range(1, epochs + 1):\n",
        "    train_acc, val_acc = [], []\n",
        "    running_loss = 0.0\n",
        "    running_corrects = 0\n",
        "    model.train() \n",
        "    for batch in train_iter:         \n",
        "        \n",
        "        x = batch.text[0]\n",
        "        y = batch.label\n",
        "        \n",
        "        opt.zero_grad()\n",
        "        preds = model(x)\n",
        "        loss = loss_func(preds, y)\n",
        "        loss.backward()\n",
        "        opt.step()\n",
        "        running_loss += loss.item()\n",
        "        \n",
        "        n_correct = (torch.max(preds, 1)[1].view(y.size()).data == y.data).float().sum().detach().cpu().numpy()\n",
        "        train_acc.append(100.0 * n_correct/len(batch))\n",
        "\n",
        "\n",
        "    epoch_loss = running_loss / len(trn)\n",
        "    train_loss.append(epoch_loss)\n",
        "\n",
        "    val_loss = 0.0\n",
        "    model.eval()\n",
        "    correct = 0\n",
        "    total = 0 \n",
        "    for batch in val_iter:\n",
        "        with torch.no_grad():\n",
        "            x = batch.text[0]\n",
        "            y = batch.label\n",
        "        \n",
        "            preds = model(x)\n",
        "            loss = loss_func(preds, y)\n",
        "            val_loss += loss.item()\n",
        "\n",
        "            n_correct = (torch.max(preds, 1)[1].view(y.size()).data == y.data).float().sum().detach().cpu().numpy()\n",
        "            val_acc.append(100.0 * n_correct/len(batch))\n",
        "\n",
        "    val_loss /= len(vld)\n",
        "    valid_loss.append(val_loss)\n",
        "    print('Epoch: {}, Training Loss: {}, Training Accuracy: {}, Validation Loss: {}, Validation Accuracy: {}'.format(epoch, round(epoch_loss, 5), round(np.mean(train_acc), 2), round(val_loss, 5), round(np.mean(val_acc), 2)))"
      ],
      "execution_count": 117,
      "outputs": [
        {
          "output_type": "stream",
          "text": [
            "Epoch: 1, Training Loss: 0.0109, Training Accuracy: 52.39, Validation Loss: 0.01037, Validation Accuracy: 62.71\n",
            "Epoch: 2, Training Loss: 0.01044, Training Accuracy: 55.62, Validation Loss: 0.01015, Validation Accuracy: 65.51\n",
            "Epoch: 3, Training Loss: 0.01007, Training Accuracy: 60.87, Validation Loss: 0.00963, Validation Accuracy: 69.2\n",
            "Epoch: 4, Training Loss: 0.00942, Training Accuracy: 65.98, Validation Loss: 0.00921, Validation Accuracy: 70.22\n",
            "Epoch: 5, Training Loss: 0.00871, Training Accuracy: 70.35, Validation Loss: 0.00903, Validation Accuracy: 70.43\n",
            "Epoch: 6, Training Loss: 0.00787, Training Accuracy: 74.41, Validation Loss: 0.00882, Validation Accuracy: 70.81\n",
            "Epoch: 7, Training Loss: 0.00722, Training Accuracy: 77.12, Validation Loss: 0.00887, Validation Accuracy: 70.76\n",
            "Epoch: 8, Training Loss: 0.00664, Training Accuracy: 78.73, Validation Loss: 0.00916, Validation Accuracy: 69.76\n",
            "Epoch: 9, Training Loss: 0.00628, Training Accuracy: 80.24, Validation Loss: 0.00938, Validation Accuracy: 70.02\n",
            "Epoch: 10, Training Loss: 0.00595, Training Accuracy: 81.06, Validation Loss: 0.00961, Validation Accuracy: 69.97\n",
            "CPU times: user 1min 27s, sys: 47.3 s, total: 2min 15s\n",
            "Wall time: 2min 16s\n"
          ],
          "name": "stdout"
        }
      ]
    },
    {
      "cell_type": "code",
      "metadata": {
        "id": "IWf-K9UFKzHy",
        "colab_type": "code",
        "colab": {
          "base_uri": "https://localhost:8080/",
          "height": 475
        },
        "outputId": "c4e08495-213c-4e0e-efe9-e71e3a3bb25c"
      },
      "source": [
        "import matplotlib.pyplot as plt\n",
        "\n",
        "plt.figure(figsize=(12,7))\n",
        "plt.title('Losses on train/val')\n",
        "plt.plot(train_loss, label='train')\n",
        "plt.plot(valid_loss, label='valid')\n",
        "plt.xlabel('num of epoch')\n",
        "plt.legend(loc='best')"
      ],
      "execution_count": 118,
      "outputs": [
        {
          "output_type": "execute_result",
          "data": {
            "text/plain": [
              "<matplotlib.legend.Legend at 0x7fedc94f7a20>"
            ]
          },
          "metadata": {
            "tags": []
          },
          "execution_count": 118
        },
        {
          "output_type": "display_data",
          "data": {
            "image/png": "[encoded data removed]",
            "text/plain": [
              "<Figure size 864x504 with 1 Axes>"
            ]
          },
          "metadata": {
            "tags": []
          }
        }
      ]
    },
    {
      "cell_type": "markdown",
      "metadata": {
        "id": "axtnp0ROU-f9",
        "colab_type": "text"
      },
      "source": [
        "### Calculate performance of the trained model (2 points)"
      ]
    },
    {
      "cell_type": "code",
      "metadata": {
        "id": "UGwZEnAKU-f9",
        "colab_type": "code",
        "colab": {
          "base_uri": "https://localhost:8080/",
          "height": 34
        },
        "outputId": "346dbb5a-2d4b-486a-8d77-f3d0ed3758a9"
      },
      "source": [
        "model.eval()\n",
        "accuracy = []\n",
        "for batch in test_iter:\n",
        "    with torch.no_grad():\n",
        "        x = batch.text[0]\n",
        "        y = batch.label\n",
        "        preds = model(x)\n",
        "        n_correct = (torch.max(preds, 1)[1].view(y.size()).data == y.data).float().sum().detach().cpu().numpy()\n",
        "        accuracy.append(100.0 * n_correct/len(batch))\n",
        "print(np.mean(accuracy))"
      ],
      "execution_count": 119,
      "outputs": [
        {
          "output_type": "stream",
          "text": [
            "69.33264066496163\n"
          ],
          "name": "stdout"
        }
      ]
    },
    {
      "cell_type": "markdown",
      "metadata": {
        "id": "vgw7ypkwU-f_",
        "colab_type": "text"
      },
      "source": [
        "Write down the calculated performance\n",
        "\n",
        "### Accuracy:\n",
        "### Precision:\n",
        "### Recall:\n",
        "### F1:"
      ]
    },
    {
      "cell_type": "markdown",
      "metadata": {
        "id": "Vp_AZKhpU-gA",
        "colab_type": "text"
      },
      "source": [
        "### Experiments (5 points)\n",
        "\n",
        "Experiment with the model and achieve better results. Implement and describe your experiments in details, mention what was helpful."
      ]
    },
    {
      "cell_type": "markdown",
      "metadata": {
        "id": "YH-Fgwr3U-gA",
        "colab_type": "text"
      },
      "source": [
        "### 1. ?\n",
        "### 2. ?\n",
        "### 3. ?"
      ]
    }
  ]
}