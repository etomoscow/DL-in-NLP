{
  "nbformat": 4,
  "nbformat_minor": 0,
  "metadata": {
    "kernelspec": {
      "name": "python3",
      "display_name": "Python 3"
    },
    "language_info": {
      "codemirror_mode": {
        "name": "ipython",
        "version": 3
      },
      "file_extension": ".py",
      "mimetype": "text/x-python",
      "name": "python",
      "nbconvert_exporter": "python",
      "pygments_lexer": "ipython3",
      "version": "3.6.9"
    },
    "colab": {
      "name": "task1,2_character_lm.ipynb",
      "provenance": [],
      "include_colab_link": true
    },
    "accelerator": "GPU"
  },
  "cells": [
    {
      "cell_type": "markdown",
      "metadata": {
        "id": "view-in-github",
        "colab_type": "text"
      },
      "source": [
        "<a href=\"https://colab.research.google.com/github/etomoscow/DL-in-NLP/blob/master/hw3/task1%2C2_character_lm.ipynb\" target=\"_parent\"><img src=\"https://colab.research.google.com/assets/colab-badge.svg\" alt=\"Open In Colab\"/></a>"
      ]
    },
    {
      "cell_type": "markdown",
      "metadata": {
        "id": "iL599t9BBGF4",
        "colab_type": "text"
      },
      "source": [
        "# Assignment 2. Language modeling.\n",
        "\n",
        "This task is devoted to language modeling. Its goal is to write in PyTorch an RNN-based language model. Since word-based language modeling requires long training and is memory-consuming due to large vocabulary, we start with character-based language modeling. We are going to train the model to generate words as sequence of characters. During training we teach it to predict characters of the words in the training set.\n",
        "\n",
        "\n",
        "\n",
        "## Task 1. Character-based language modeling: data preparation (15 points)."
      ]
    },
    {
      "cell_type": "markdown",
      "metadata": {
        "id": "I_euJzO3BGF8",
        "colab_type": "text"
      },
      "source": [
        "We train the language models on the materials of **Sigmorphon 2018 Shared Task**. First, download the Russian datasets."
      ]
    },
    {
      "cell_type": "code",
      "metadata": {
        "id": "I0qWIbjxBGF9",
        "colab_type": "code",
        "outputId": "8ed94140-1763-4b53-e352-f862c204712b",
        "colab": {
          "base_uri": "https://localhost:8080/",
          "height": 578
        }
      },
      "source": [
        "!wget https://raw.githubusercontent.com/sigmorphon/conll2018/master/task1/surprise/russian-train-high\n",
        "!wget https://raw.githubusercontent.com/sigmorphon/conll2018/master/task1/surprise/russian-dev\n",
        "!wget https://raw.githubusercontent.com/sigmorphon/conll2018/master/task1/surprise/russian-test"
      ],
      "execution_count": 1,
      "outputs": [
        {
          "output_type": "stream",
          "text": [
            "--2020-03-27 07:47:11--  https://raw.githubusercontent.com/sigmorphon/conll2018/master/task1/surprise/russian-train-high\n",
            "Resolving raw.githubusercontent.com (raw.githubusercontent.com)... 151.101.0.133, 151.101.64.133, 151.101.128.133, ...\n",
            "Connecting to raw.githubusercontent.com (raw.githubusercontent.com)|151.101.0.133|:443... connected.\n",
            "HTTP request sent, awaiting response... 200 OK\n",
            "Length: 533309 (521K) [text/plain]\n",
            "Saving to: ‘russian-train-high’\n",
            "\n",
            "\rrussian-train-high    0%[                    ]       0  --.-KB/s               \rrussian-train-high  100%[===================>] 520.81K  --.-KB/s    in 0.04s   \n",
            "\n",
            "2020-03-27 07:47:11 (13.4 MB/s) - ‘russian-train-high’ saved [533309/533309]\n",
            "\n",
            "--2020-03-27 07:47:14--  https://raw.githubusercontent.com/sigmorphon/conll2018/master/task1/surprise/russian-dev\n",
            "Resolving raw.githubusercontent.com (raw.githubusercontent.com)... 151.101.0.133, 151.101.64.133, 151.101.128.133, ...\n",
            "Connecting to raw.githubusercontent.com (raw.githubusercontent.com)|151.101.0.133|:443... connected.\n",
            "HTTP request sent, awaiting response... 200 OK\n",
            "Length: 53671 (52K) [text/plain]\n",
            "Saving to: ‘russian-dev’\n",
            "\n",
            "russian-dev         100%[===================>]  52.41K  --.-KB/s    in 0.01s   \n",
            "\n",
            "2020-03-27 07:47:14 (3.54 MB/s) - ‘russian-dev’ saved [53671/53671]\n",
            "\n",
            "--2020-03-27 07:47:16--  https://raw.githubusercontent.com/sigmorphon/conll2018/master/task1/surprise/russian-test\n",
            "Resolving raw.githubusercontent.com (raw.githubusercontent.com)... 151.101.0.133, 151.101.64.133, 151.101.128.133, ...\n",
            "Connecting to raw.githubusercontent.com (raw.githubusercontent.com)|151.101.0.133|:443... connected.\n",
            "HTTP request sent, awaiting response... 200 OK\n",
            "Length: 53514 (52K) [text/plain]\n",
            "Saving to: ‘russian-test’\n",
            "\n",
            "russian-test        100%[===================>]  52.26K  --.-KB/s    in 0.01s   \n",
            "\n",
            "2020-03-27 07:47:16 (3.46 MB/s) - ‘russian-test’ saved [53514/53514]\n",
            "\n"
          ],
          "name": "stdout"
        }
      ]
    },
    {
      "cell_type": "markdown",
      "metadata": {
        "id": "sEn-Va9cBGGC",
        "colab_type": "text"
      },
      "source": [
        "**1.1 (1 points)**\n",
        "All the files contain tab-separated triples ```<lemma>-<form>-<tags>```, where ```<form>``` may contain spaces (*будете соответствовать*). Write a function that loads a list of all word forms, that do not contain spaces.  "
      ]
    },
    {
      "cell_type": "code",
      "metadata": {
        "id": "2vPl04joBGGD",
        "colab_type": "code",
        "colab": {}
      },
      "source": [
        "def read_infile(infile):\n",
        "    \"\"\"\n",
        "    implements simple data loader\n",
        "    \n",
        "    input: raw file \n",
        "    output: words (array-like)\n",
        "    \"\"\"\n",
        "    words, tags = [], []\n",
        "    with open(infile, 'r', encoding='utf-8') as ffile:\n",
        "        for string in ffile:\n",
        "            if len(string.strip().split('\\t')) !=3:\n",
        "                continue\n",
        "            words.append(string.strip().split('\\t')[0].lower())\n",
        "            tags.append(string.strip().split('\\t')[2])\n",
        "    return words"
      ],
      "execution_count": 0,
      "outputs": []
    },
    {
      "cell_type": "code",
      "metadata": {
        "id": "xN0V2mVwBGGH",
        "colab_type": "code",
        "outputId": "7fed914a-36df-410b-c8f7-2dea2bcd7383",
        "colab": {
          "base_uri": "https://localhost:8080/",
          "height": 51
        }
      },
      "source": [
        "train_words = read_infile(\"russian-train-high\")\n",
        "dev_words = read_infile(\"russian-dev\")\n",
        "test_words = read_infile(\"russian-test\")\n",
        "print(len(train_words), len(dev_words), len(test_words))\n",
        "print(*train_words[:10])"
      ],
      "execution_count": 3,
      "outputs": [
        {
          "output_type": "stream",
          "text": [
            "10000 1000 1000\n",
            "валлонский незаконченный истрёпывать личный серьга необоснованный тютя зарасти облётывать идеальный\n"
          ],
          "name": "stdout"
        }
      ]
    },
    {
      "cell_type": "markdown",
      "metadata": {
        "id": "D8TViTGxBGGL",
        "colab_type": "text"
      },
      "source": [
        "**1.2 (2 points)** Write a **Vocabulary** class that allows to transform symbols into their indexes. The class should have the method ```__call__``` that applies this transformation to sequences of symbols and batches of sequences as well. You can also use [SimpleVocabulary](https://github.com/deepmipt/DeepPavlov/blob/c10b079b972493220c82a643d47d718d5358c7f4/deeppavlov/core/data/simple_vocab.py#L31) from DeepPavlov. Fit an instance of this class on the training data."
      ]
    },
    {
      "cell_type": "code",
      "metadata": {
        "id": "8PgbglT6BGGN",
        "colab_type": "code",
        "outputId": "5ff0dbc5-26c6-4110-ac54-8d8df80dfa30",
        "colab": {
          "base_uri": "https://localhost:8080/",
          "height": 122
        }
      },
      "source": [
        "PAD_token = '<PAD>'   # Used for padding short sentences\n",
        "BEGIN_token = '<BEGIN>'   # Start-of-sentence token\n",
        "END_token = '<END>'   # End-of-sentence token\n",
        "\n",
        "class Vocabulary(object):\n",
        "    \"\"\"\n",
        "    implements a simple vocabulary (thanks to kdnuggets.com)\n",
        "\n",
        "    \"\"\"\n",
        "    \n",
        "    def fit(self, data, show_sets=False):\n",
        "        terms = set(term for word in data for term in word)\n",
        "        self._terms = [PAD_token, END_token, BEGIN_token] + sorted(terms)\n",
        "        self.w2i = {word:ind for ind, word in enumerate(self._terms)}\n",
        "        self.i2w = {ind:word for ind, word in enumerate(self._terms)}\n",
        "        \n",
        "        if show_sets:\n",
        "            print('\\nTerms:', self._terms)\n",
        "            print('\\nWord2Index dict:', self.w2i)\n",
        "        return self\n",
        "\n",
        "    def __call__(self, data):\n",
        "        '''\n",
        "        applies .transform method to the given data\n",
        "\n",
        "        args:\n",
        "            data - input dataset\n",
        "        \n",
        "        output:\n",
        "            transformed dataset with indexes from Word2Index mapping\n",
        "        '''\n",
        "        transformed_data = [[self.w2i[term] for term in word] for word in data]\n",
        "        return transformed_data\n",
        "\n",
        "    def __len__(self):\n",
        "        return len(self._terms)\n",
        "    \n",
        "    def word2idx(self, word):\n",
        "        return self.w2i[word]\n",
        "    \n",
        "    def idx2word(self, ind):\n",
        "        return self.i2w[ind]\n",
        "\n",
        "vocab = Vocabulary()\n",
        "vocab.fit([list(x) for x in train_words], show_sets=True)\n",
        "print(len(vocab))"
      ],
      "execution_count": 4,
      "outputs": [
        {
          "output_type": "stream",
          "text": [
            "\n",
            "Terms: ['<PAD>', '<END>', '<BEGIN>', ' ', '-', 'а', 'б', 'в', 'г', 'д', 'е', 'ж', 'з', 'и', 'й', 'к', 'л', 'м', 'н', 'о', 'п', 'р', 'с', 'т', 'у', 'ф', 'х', 'ц', 'ч', 'ш', 'щ', 'ъ', 'ы', 'ь', 'э', 'ю', 'я', 'ё']\n",
            "\n",
            "Word2Index dict: {'<PAD>': 0, '<END>': 1, '<BEGIN>': 2, ' ': 3, '-': 4, 'а': 5, 'б': 6, 'в': 7, 'г': 8, 'д': 9, 'е': 10, 'ж': 11, 'з': 12, 'и': 13, 'й': 14, 'к': 15, 'л': 16, 'м': 17, 'н': 18, 'о': 19, 'п': 20, 'р': 21, 'с': 22, 'т': 23, 'у': 24, 'ф': 25, 'х': 26, 'ц': 27, 'ч': 28, 'ш': 29, 'щ': 30, 'ъ': 31, 'ы': 32, 'ь': 33, 'э': 34, 'ю': 35, 'я': 36, 'ё': 37}\n",
            "38\n"
          ],
          "name": "stdout"
        }
      ]
    },
    {
      "cell_type": "code",
      "metadata": {
        "id": "JNMk5z60dbq_",
        "colab_type": "code",
        "colab": {}
      },
      "source": [
        "PAD_token = vocab.word2idx(PAD_token)\n",
        "END_token = vocab.word2idx(END_token)\n",
        "BEGIN_token = vocab.word2idx(BEGIN_token)"
      ],
      "execution_count": 0,
      "outputs": []
    },
    {
      "cell_type": "markdown",
      "metadata": {
        "id": "z6jH0JjuBGGR",
        "colab_type": "text"
      },
      "source": [
        "**1.3 (2 points)** Write a **Dataset** class, which should be inherited from ```torch.utils.data.Dataset```. It should take a list of words and the ```vocab``` as initialization arguments."
      ]
    },
    {
      "cell_type": "code",
      "metadata": {
        "id": "Ro8q7BnuBGGT",
        "colab_type": "code",
        "colab": {}
      },
      "source": [
        "import torch\n",
        "from torch.utils.data import Dataset as TorchDataset\n",
        "\n",
        "class Dataset(TorchDataset):\n",
        "    \n",
        "    \"\"\"Custom data.Dataset compatible with data.DataLoader.\"\"\"\n",
        "    def __init__(self, data, vocab, index=0, batch_size=1):\n",
        "        self.data = data\n",
        "        self.vocab = vocab\n",
        "        self.index = index\n",
        "        self.batch_size = batch_size\n",
        "    def __getitem__(self, data):\n",
        "        \"\"\"\n",
        "        Returns one tensor pair (source and target). The source tensor corresponds to the input word,\n",
        "        with \"BEGIN\" and \"END\" symbols attached. The target tensor should contain the answers\n",
        "        for the language model that obtain these word as input.        \n",
        "        \"\"\"\n",
        "        global index\n",
        "        data = self.data\n",
        "        batch_size = self.batch_size\n",
        "        batch = []\n",
        "        target = []\n",
        "        block = []\n",
        "\n",
        "        for _ in range(batch_size):\n",
        "            word = data[self.index]\n",
        "            word_t = vocab.__call__([word])[0]\n",
        "            target = word_t + [END_token]\n",
        "            word_t = [BEGIN_token] + word_t\n",
        "            \n",
        "            block.append((word_t, target, len(word)))\n",
        "            self.index = (self.index + 1) % len(data)\n",
        "            \n",
        "        block = sorted(block, key=lambda x: x[2], reverse=True)\n",
        "        real_batch = torch.FloatTensor([x[0] for x in block][0])\n",
        "        real_target = torch.FloatTensor([x[1] for x in block][0])\n",
        "        #real_length = torch.FloatTensor([x[2] for x in block][0])\n",
        "        return (real_batch, real_target)\n",
        "\n",
        "    def __len__(self):\n",
        "        return len(self.data) // self.batch_size"
      ],
      "execution_count": 0,
      "outputs": []
    },
    {
      "cell_type": "code",
      "metadata": {
        "id": "JWMmzS_BBGGX",
        "colab_type": "code",
        "colab": {}
      },
      "source": [
        "index = 0 \n",
        "train_dataset = Dataset(train_words, vocab)\n",
        "dev_dataset = Dataset(dev_words, vocab)\n",
        "test_dataset = Dataset(test_words, vocab)"
      ],
      "execution_count": 0,
      "outputs": []
    },
    {
      "cell_type": "markdown",
      "metadata": {
        "colab_type": "text",
        "id": "vkSHJNsFxvBe"
      },
      "source": [
        "**1.4 (3 points)** Use a standard ```torch.utils.data.DataLoader``` to obtain an iterable over batches. Print the shape of first 10 input batches with ```batch_size=1```."
      ]
    },
    {
      "cell_type": "code",
      "metadata": {
        "id": "BjpHghmWBGGc",
        "colab_type": "code",
        "outputId": "3c616f46-a664-4d38-9d2c-8ec8dac91dab",
        "colab": {
          "base_uri": "https://localhost:8080/",
          "height": 187
        }
      },
      "source": [
        "from torch.utils.data import DataLoader\n",
        "\n",
        "loader =  DataLoader(train_dataset, batch_size=1)\n",
        "for batch, i in zip(loader, range(10)):\n",
        "    print (batch[0].shape, batch[1].shape)"
      ],
      "execution_count": 30,
      "outputs": [
        {
          "output_type": "stream",
          "text": [
            "torch.Size([1, 11]) torch.Size([1, 11])\n",
            "torch.Size([1, 14]) torch.Size([1, 14])\n",
            "torch.Size([1, 12]) torch.Size([1, 12])\n",
            "torch.Size([1, 7]) torch.Size([1, 7])\n",
            "torch.Size([1, 7]) torch.Size([1, 7])\n",
            "torch.Size([1, 15]) torch.Size([1, 15])\n",
            "torch.Size([1, 5]) torch.Size([1, 5])\n",
            "torch.Size([1, 8]) torch.Size([1, 8])\n",
            "torch.Size([1, 11]) torch.Size([1, 11])\n",
            "torch.Size([1, 10]) torch.Size([1, 10])\n"
          ],
          "name": "stdout"
        }
      ]
    },
    {
      "cell_type": "markdown",
      "metadata": {
        "id": "1Jil04LkBGGg",
        "colab_type": "text"
      },
      "source": [
        "**(1.5) 1 point** Explain, why this does not work with larger batch size."
      ]
    },
    {
      "cell_type": "markdown",
      "metadata": {
        "id": "HovMbjZbBGGh",
        "colab_type": "raw"
      },
      "source": [
        ""
      ]
    },
    {
      "cell_type": "markdown",
      "metadata": {
        "id": "BbcqSTVmBGGi",
        "colab_type": "text"
      },
      "source": [
        "**(1.6) 5 points** Write a function **collate** that allows you to deal with batches of greater size. See [discussion](https://discuss.pytorch.org/t/dataloader-for-various-length-of-data/6418/8) for an example. Implement your function as a class ```__call__``` method to make it more flexible."
      ]
    },
    {
      "cell_type": "code",
      "metadata": {
        "id": "KD1UQlEZBGGj",
        "colab_type": "code",
        "colab": {}
      },
      "source": [
        "def pad_tensor(vec, length, dim, pad_symbol=0):\n",
        "    \"\"\"\n",
        "    Pads a vector ``vec`` up to length ``length`` along axis ``dim`` with pad symbol ``pad_symbol``.\n",
        "    \"\"\"\n",
        "    dtype = torch.FloatTensor\n",
        "    #print('vec shape:',vec.shape,'len',length)\n",
        "    pad_size = list(vec.shape)\n",
        "    if length > vec.size(dim):\n",
        "        pad_size[dim] = length - vec.size(dim)\n",
        "        #print('pad_size',pad_size)\n",
        "        #print(torch.cat([vec.type(dtype), torch.zeros(*pad_size)], dim=dim))\n",
        "        return torch.cat([vec.type(dtype), torch.zeros(*pad_size)], dim=dim)\n",
        "    else:\n",
        "        return vec \n",
        "\n",
        "class Padder:\n",
        "    '''\n",
        "    padding tool, pads batches according to the needed shape\n",
        "    '''\n",
        "    def __init__(self, dim=0, pad_symbol=0):\n",
        "        '''\n",
        "        args:\n",
        "            dim - the dimension to be padded\n",
        "            pad_symbol - the symbol to be used in padding\n",
        "        '''\n",
        "        self.dim = dim\n",
        "        self.pad_symbol = pad_symbol\n",
        "        \n",
        "    def pad_collate(self, batch):\n",
        "        '''\n",
        "        args:\n",
        "            batch - list(batch, target)\n",
        "\n",
        "        return:\n",
        "            x - Tensor of all examples in 'batch' after padding\n",
        "            y - LongTensor of target in batch\n",
        "        '''\n",
        "        newbatch = []\n",
        "        max_length = max(list(map(lambda x: x[0].shape[self.dim], batch)))\n",
        "        for source, target in batch:\n",
        "            newbatch.append((pad_tensor(source, max_length, self.dim),\n",
        "                             pad_tensor(target, max_length, self.dim),\n",
        "                             max_length))\n",
        "            newbatch = sorted(newbatch, key= lambda x: x[2], reverse=True)\n",
        "        xs = torch.stack(list(map(lambda x: x[0], newbatch)), dim=0).long()\n",
        "        ys = torch.stack(list(map(lambda x: x[1], newbatch)), dim=0).long()\n",
        "        lens = torch.as_tensor([x[2] for x in newbatch], dtype=torch.int64)\n",
        "        return xs, ys, lens\n",
        "\n",
        "    def __call__(self, batch):\n",
        "        return self.pad_collate(batch)"
      ],
      "execution_count": 0,
      "outputs": []
    },
    {
      "cell_type": "markdown",
      "metadata": {
        "id": "vlWJMFqEBGGn",
        "colab_type": "text"
      },
      "source": [
        "**(1.7) 1 points** Again, use ```torch.utils.data.DataLoader``` to obtain an iterable over batches. Print the shape of first 10 input batches with the batch size you like."
      ]
    },
    {
      "cell_type": "code",
      "metadata": {
        "id": "skz6yNqFBGGo",
        "colab_type": "code",
        "outputId": "8377e9e2-a8c7-4165-f94c-26e5449c7df2",
        "colab": {
          "base_uri": "https://localhost:8080/",
          "height": 187
        }
      },
      "source": [
        "from torch.utils.data import DataLoader\n",
        "index = 0\n",
        "loader = DataLoader(train_dataset, batch_size=5, collate_fn=Padder(dim=0, pad_symbol=0))\n",
        "for batch, i in zip(loader, range(9)):\n",
        "    if i==0:\n",
        "        print('batch tensor type:', batch[0].type(), batch[1].type())\n",
        "    print(batch[0].shape, batch[1].shape, batch[2])\n",
        "    "
      ],
      "execution_count": 84,
      "outputs": [
        {
          "output_type": "stream",
          "text": [
            "batch tensor type: torch.LongTensor torch.LongTensor\n",
            "torch.Size([5, 17]) torch.Size([5, 17]) tensor([17, 17, 17, 17, 17])\n",
            "torch.Size([5, 13]) torch.Size([5, 13]) tensor([13, 13, 13, 13, 13])\n",
            "torch.Size([5, 15]) torch.Size([5, 15]) tensor([15, 15, 15, 15, 15])\n",
            "torch.Size([5, 43]) torch.Size([5, 43]) tensor([43, 43, 43, 43, 43])\n",
            "torch.Size([5, 16]) torch.Size([5, 16]) tensor([16, 16, 16, 16, 16])\n",
            "torch.Size([5, 17]) torch.Size([5, 17]) tensor([17, 17, 17, 17, 17])\n",
            "torch.Size([5, 12]) torch.Size([5, 12]) tensor([12, 12, 12, 12, 12])\n",
            "torch.Size([5, 14]) torch.Size([5, 14]) tensor([14, 14, 14, 14, 14])\n",
            "torch.Size([5, 23]) torch.Size([5, 23]) tensor([23, 23, 23, 23, 23])\n"
          ],
          "name": "stdout"
        }
      ]
    },
    {
      "cell_type": "markdown",
      "metadata": {
        "id": "Nz-7RdpgBGGs",
        "colab_type": "text"
      },
      "source": [
        "## Task 2. Character-based language modeling. (35 points)"
      ]
    },
    {
      "cell_type": "markdown",
      "metadata": {
        "id": "AIGNF_AnBGGt",
        "colab_type": "text"
      },
      "source": [
        "**2.1 (5 points)** Write a network that performs language modeling. It should include three layers:\n",
        "1. **Embedding** layer that transforms input symbols into vectors.\n",
        "2. An **RNN** layer that outputs a sequence of hidden states (you may use https://pytorch.org/docs/stable/nn.html#gru).\n",
        "3. A **Linear** layer with ``softmax`` activation that produces the output distribution for each symbol."
      ]
    },
    {
      "cell_type": "code",
      "metadata": {
        "id": "8yUTOsz-BGGu",
        "colab_type": "code",
        "colab": {}
      },
      "source": [
        "import torch.nn as nn\n",
        "from torch.nn.utils.rnn import pack_padded_sequence, pad_packed_sequence\n",
        "import torch.nn.functional as F\n",
        "\n",
        "device_cpu = torch.device('cpu')\n",
        "\n",
        "class RNNLM(nn.Module):\n",
        "\n",
        "    def __init__(self, vocab_size, embeddings_dim, hidden_dim, num_layers, dropout=0.):\n",
        "        super(RNNLM, self).__init__()\n",
        "        self.embeddings_dim = embeddings_dim\n",
        "        self.hidden_dim = hidden_dim\n",
        "        self.vocab_size = vocab_size\n",
        "        self.num_layers = num_layers\n",
        "\n",
        "        self.in_embs = nn.Embedding(vocab_size, embeddings_dim, padding_idx=PAD_token)\n",
        "        self.lstm = nn.LSTM(embeddings_dim, hidden_dim, num_layers, dropout=dropout)\n",
        "        self.output_layer = nn.Linear(hidden_dim, vocab_size)\n",
        "    \n",
        "    def forward(self, inputs):\n",
        "        embs = self.in_embs(inputs)\n",
        "        out, f = self.lstm(embs)\n",
        "        out = self.output_layer(out)\n",
        "        scores = F.log_softmax(out,dim=-1)\n",
        "        return scores\n",
        "\n",
        "    def init_hidden(self, batch_size):\n",
        "        '''\n",
        "        poeqgjopiwjOPIj\n",
        "        '''\n",
        "        return torch.zeros(self.num_layers, batch_size, self.hidden_dim, device = device), torch.zeros(self.num_layers, batch_size, self.hidden_dim, device = device)"
      ],
      "execution_count": 0,
      "outputs": []
    },
    {
      "cell_type": "markdown",
      "metadata": {
        "id": "AZ-C3cKvBGGx",
        "colab_type": "text"
      },
      "source": [
        "**2.2 (1 points)** Write a function ``validate_on_batch`` that takes as input a model, a batch of inputs and a batch of outputs, and the loss criterion, and outputs the loss tensor for the whole batch. This loss should not be normalized."
      ]
    },
    {
      "cell_type": "code",
      "metadata": {
        "id": "yhAUDKDLBGGy",
        "colab_type": "code",
        "colab": {}
      },
      "source": [
        "def validate_on_batch(model, criterion, x, y, batch_size, lens):\n",
        "    score = model.forward(x).to(device)\n",
        "    loss = criterion(scores.view(batch_size_ * max(lens), -1).to(dtype=torch.float32),\n",
        "                     y.view(batch_size*max(lens)))    \n",
        "    return loss"
      ],
      "execution_count": 0,
      "outputs": []
    },
    {
      "cell_type": "markdown",
      "metadata": {
        "id": "mMygPzahBGG2",
        "colab_type": "text"
      },
      "source": [
        "**2.3 (1 points)** Write a function ``train_on_batch`` that accepts all the arguments of ``validate_on_batch`` and also an optimizer, calculates loss and makes a single step of gradient optimization. This function should call ``validate_on_batch`` inside."
      ]
    },
    {
      "cell_type": "code",
      "metadata": {
        "id": "w6mrTTVuBGG4",
        "colab_type": "code",
        "colab": {}
      },
      "source": [
        "def train_on_batch(model, criterion, x, y, lens, optimizer):\n",
        "    \n",
        "    x = x.to(device)\n",
        "    y = y.to(device)\n",
        "\n",
        "    batch_size_ = x.shape[0]\n",
        "\n",
        "    loss = validate_on_batch(model,criterion,x,y,batch_size_,lens)\n",
        "\n",
        "    return losses"
      ],
      "execution_count": 0,
      "outputs": []
    },
    {
      "cell_type": "markdown",
      "metadata": {
        "id": "3xua7DlaBGG8",
        "colab_type": "text"
      },
      "source": [
        "**2.4 (3 points)** Write a training loop. You should define your ``RNNLM`` model, the criterion, the optimizer and the hyperparameters (number of epochs and batch size). Then train the model for a required number of epochs. On each epoch evaluate the average training loss and the average loss on the validation set. \n",
        "\n",
        "**2.5 (3 points)** Do not forget to average your loss over only non-padding symbols, otherwise it will be too optimistic."
      ]
    },
    {
      "cell_type": "code",
      "metadata": {
        "id": "MyiGlQpABGG9",
        "colab_type": "code",
        "colab": {
          "base_uri": "https://localhost:8080/",
          "height": 1000
        },
        "outputId": "dd084967-32dc-4fc8-f3d0-bfcc0022357a"
      },
      "source": [
        "import math \n",
        "\n",
        "device = torch.device('cuda:0' if torch.cuda.is_available() else 'cpu')\n",
        "model = RNNLM(vocab_size=vocab.__len__(),\n",
        "              embeddings_dim=vocab.__len__(),\n",
        "              hidden_dim=256,\n",
        "              num_layers=2,\n",
        "              dropout=0.5).to(device)\n",
        "\n",
        "loss_func = nn.NLLLoss(reduction='sum', ignore_index=PAD_token)\n",
        "opt = torch.optim.Adam(model.parameters(), lr=0.03)\n",
        "\n",
        "dev_perp = []\n",
        "train_perp = []\n",
        "losses_train = []\n",
        "losses_dev = []\n",
        "\n",
        "num_epochs = 500\n",
        "print_every = 10\n",
        "\n",
        "for epoch in range(num_epochs):\n",
        "    sum_loss_train = 0\n",
        "    sum_loss_dev = 0\n",
        "    total_tokens_train = 0\n",
        "    total_tokens_dev = 0\n",
        "\n",
        "    \n",
        "    for batch_train, target_train, lens in DataLoader(train_dataset,\n",
        "                                                batch_size=100,\n",
        "                                                collate_fn=Padder(dim=0, pad_symbol=0)):\n",
        "        model.train()\n",
        "        batch_train = batch_train.to(device)\n",
        "        target_train = target_train.to(device)\n",
        "\n",
        "        batch_size_ = batch_train.shape[0]\n",
        "        batch_len = batch_train.shape[1]\n",
        "        scores = model.forward(batch_train).to(device)\n",
        "        loss = loss_func(scores.view(batch_size_*max(lens),-1).to(dtype=torch.float32), target_train.view(batch_size_*max(lens)))\n",
        "        sum_loss_train = sum_loss_train + loss.item()\n",
        "        total_tokens_train += float(batch_size_ + sum(lens))\n",
        "        \n",
        "        if model.training:\n",
        "            opt.zero_grad()\n",
        "            loss.backward()\n",
        "            opt.step()\n",
        "        \n",
        "        perp_train = math.exp(sum_loss_train / total_tokens_train)\n",
        "        loss_train = sum_loss_train / total_tokens_train\n",
        "    losses_train.append(loss_train)\n",
        "    train_perp.append(perp_train)\n",
        "    \n",
        "    if epoch % print_every == 0:\n",
        "        print('Epoch: {}, loss:{}, perp:{}'.format(epoch, round(loss_train,4), round(perp_train,4)))\n",
        "\n",
        "    \n",
        "    for batch_eval, target_eval, lens in DataLoader(dev_dataset,\n",
        "                                                batch_size=10,\n",
        "                                                collate_fn=Padder(dim=0, pad_symbol=0)):\n",
        "        model.eval()\n",
        "        batch_eval = batch_eval.to(device=device)\n",
        "        target_eval = target_eval.to(device=device)\n",
        "\n",
        "        with torch.no_grad():\n",
        "            batch_size_ = batch_eval.shape[0]\n",
        "            batch_len = batch_eval.shape[1]\n",
        "            scores = model.forward(batch_eval).to(device=device)\n",
        "            loss = loss_func(scores.view(batch_size_*max(lens), -1).to(dtype=torch.float32), target_eval.view(batch_size_*max(lens)))\n",
        "            sum_loss_dev = sum_loss_dev + loss.item()\n",
        "            total_tokens_dev += float(batch_size_ + sum(lens))\n",
        "\n",
        "        perp_dev = math.exp(sum_loss_dev / total_tokens_dev)\n",
        "        loss_dev = sum_loss_dev / total_tokens_dev\n",
        "    losses_dev.append(loss_dev)\n",
        "    dev_perp.append(perp_dev)\n",
        "    if epoch % print_every == 0:\n",
        "        print('epoch: {}, val loss:{}, val perp:{}'.format(epoch, round(loss_dev,4), round(perp_dev,4)))"
      ],
      "execution_count": 177,
      "outputs": [
        {
          "output_type": "stream",
          "text": [
            "Epoch: 0, loss:1.209, perp:3.35\n",
            "epoch: 0, val loss:1.5228, val perp:4.5853\n",
            "Epoch: 10, loss:0.9935, perp:2.7006\n",
            "epoch: 10, val loss:1.4345, val perp:4.1975\n",
            "Epoch: 20, loss:0.9823, perp:2.6706\n",
            "epoch: 20, val loss:1.4346, val perp:4.1981\n",
            "Epoch: 30, loss:0.9799, perp:2.6642\n",
            "epoch: 30, val loss:1.4362, val perp:4.2046\n",
            "Epoch: 40, loss:0.9797, perp:2.6637\n",
            "epoch: 40, val loss:1.4405, val perp:4.2229\n",
            "Epoch: 50, loss:0.9777, perp:2.6585\n",
            "epoch: 50, val loss:1.4452, val perp:4.2426\n",
            "Epoch: 60, loss:0.9795, perp:2.6632\n",
            "epoch: 60, val loss:1.4433, val perp:4.2347\n",
            "Epoch: 70, loss:0.9766, perp:2.6554\n",
            "epoch: 70, val loss:1.449, val perp:4.2587\n",
            "Epoch: 80, loss:0.9757, perp:2.653\n",
            "epoch: 80, val loss:1.449, val perp:4.2587\n",
            "Epoch: 90, loss:0.977, perp:2.6565\n",
            "epoch: 90, val loss:1.4521, val perp:4.2721\n",
            "Epoch: 100, loss:0.9764, perp:2.6549\n",
            "epoch: 100, val loss:1.4519, val perp:4.2714\n",
            "Epoch: 110, loss:0.9762, perp:2.6544\n",
            "epoch: 110, val loss:1.4545, val perp:4.2824\n",
            "Epoch: 120, loss:0.9754, perp:2.6521\n",
            "epoch: 120, val loss:1.457, val perp:4.2929\n",
            "Epoch: 130, loss:0.9739, perp:2.6483\n",
            "epoch: 130, val loss:1.4608, val perp:4.3093\n",
            "Epoch: 140, loss:0.9753, perp:2.6519\n",
            "epoch: 140, val loss:1.4628, val perp:4.3181\n",
            "Epoch: 150, loss:0.9745, perp:2.6499\n",
            "epoch: 150, val loss:1.4667, val perp:4.3349\n",
            "Epoch: 160, loss:0.975, perp:2.6511\n",
            "epoch: 160, val loss:1.4711, val perp:4.3541\n",
            "Epoch: 170, loss:0.973, perp:2.646\n",
            "epoch: 170, val loss:1.4736, val perp:4.3648\n",
            "Epoch: 180, loss:0.9738, perp:2.648\n",
            "epoch: 180, val loss:1.4704, val perp:4.3511\n",
            "Epoch: 190, loss:0.9747, perp:2.6505\n",
            "epoch: 190, val loss:1.4735, val perp:4.3647\n",
            "Epoch: 200, loss:0.9752, perp:2.6518\n",
            "epoch: 200, val loss:1.4777, val perp:4.3829\n",
            "Epoch: 210, loss:0.9731, perp:2.6462\n",
            "epoch: 210, val loss:1.4766, val perp:4.3779\n",
            "Epoch: 220, loss:0.9752, perp:2.6516\n",
            "epoch: 220, val loss:1.4717, val perp:4.3565\n",
            "Epoch: 230, loss:0.9739, perp:2.6481\n",
            "epoch: 230, val loss:1.479, val perp:4.3885\n",
            "Epoch: 240, loss:0.977, perp:2.6565\n",
            "epoch: 240, val loss:1.4764, val perp:4.3772\n",
            "Epoch: 250, loss:0.9743, perp:2.6494\n",
            "epoch: 250, val loss:1.4831, val perp:4.4067\n",
            "Epoch: 260, loss:0.9821, perp:2.6702\n",
            "epoch: 260, val loss:1.4811, val perp:4.3977\n",
            "Epoch: 270, loss:0.9776, perp:2.6579\n",
            "epoch: 270, val loss:1.4801, val perp:4.3934\n",
            "Epoch: 280, loss:0.9768, perp:2.6558\n",
            "epoch: 280, val loss:1.4824, val perp:4.4034\n",
            "Epoch: 290, loss:0.9766, perp:2.6555\n",
            "epoch: 290, val loss:1.4873, val perp:4.425\n",
            "Epoch: 300, loss:0.9752, perp:2.6518\n",
            "epoch: 300, val loss:1.4931, val perp:4.4508\n",
            "Epoch: 310, loss:0.9759, perp:2.6535\n",
            "epoch: 310, val loss:1.4966, val perp:4.4663\n",
            "Epoch: 320, loss:0.9745, perp:2.6498\n",
            "epoch: 320, val loss:1.495, val perp:4.4594\n",
            "Epoch: 330, loss:0.9738, perp:2.6479\n",
            "epoch: 330, val loss:1.4942, val perp:4.456\n",
            "Epoch: 340, loss:0.9736, perp:2.6476\n",
            "epoch: 340, val loss:1.496, val perp:4.464\n",
            "Epoch: 350, loss:0.9713, perp:2.6414\n",
            "epoch: 350, val loss:1.5005, val perp:4.4838\n",
            "Epoch: 360, loss:0.9713, perp:2.6415\n",
            "epoch: 360, val loss:1.5068, val perp:4.5123\n",
            "Epoch: 370, loss:0.971, perp:2.6407\n",
            "epoch: 370, val loss:1.5083, val perp:4.519\n",
            "Epoch: 380, loss:0.9696, perp:2.6368\n",
            "epoch: 380, val loss:1.5174, val perp:4.5605\n",
            "Epoch: 390, loss:0.9696, perp:2.6369\n",
            "epoch: 390, val loss:1.5174, val perp:4.5605\n",
            "Epoch: 400, loss:0.9685, perp:2.6339\n",
            "epoch: 400, val loss:1.5257, val perp:4.5985\n",
            "Epoch: 410, loss:0.9673, perp:2.6309\n",
            "epoch: 410, val loss:1.5345, val perp:4.6392\n",
            "Epoch: 420, loss:0.9678, perp:2.6322\n",
            "epoch: 420, val loss:1.5355, val perp:4.6434\n",
            "Epoch: 430, loss:0.9689, perp:2.6351\n",
            "epoch: 430, val loss:1.5417, val perp:4.6727\n",
            "Epoch: 440, loss:0.9689, perp:2.635\n",
            "epoch: 440, val loss:1.5377, val perp:4.654\n",
            "Epoch: 450, loss:0.9685, perp:2.634\n",
            "epoch: 450, val loss:1.534, val perp:4.6365\n",
            "Epoch: 460, loss:0.97, perp:2.638\n",
            "epoch: 460, val loss:1.5337, val perp:4.6355\n",
            "Epoch: 470, loss:0.9767, perp:2.6558\n",
            "epoch: 470, val loss:1.5339, val perp:4.636\n",
            "Epoch: 480, loss:0.9774, perp:2.6574\n",
            "epoch: 480, val loss:1.5326, val perp:4.6303\n",
            "Epoch: 490, loss:0.9774, perp:2.6576\n",
            "epoch: 490, val loss:1.5263, val perp:4.6013\n"
          ],
          "name": "stdout"
        }
      ]
    },
    {
      "cell_type": "code",
      "metadata": {
        "id": "aGM3OsP6bfP0",
        "colab_type": "code",
        "colab": {
          "base_uri": "https://localhost:8080/",
          "height": 461
        },
        "outputId": "c51b74c4-dc2e-4af0-9e99-b800661ebabe"
      },
      "source": [
        "import matplotlib.pyplot as plt \n",
        "plt.figure(figsize=(12,7))\n",
        "plt.title('Average losses per epoch')\n",
        "plt.plot(losses_train, label='train')\n",
        "plt.plot(losses_dev, label='dev')\n",
        "plt.legend(loc='best')"
      ],
      "execution_count": 178,
      "outputs": [
        {
          "output_type": "execute_result",
          "data": {
            "text/plain": [
              "<matplotlib.legend.Legend at 0x7f0a100d3588>"
            ]
          },
          "metadata": {
            "tags": []
          },
          "execution_count": 178
        },
        {
          "output_type": "display_data",
          "data": {
            "image/png": "[encoded data removed]",
            "text/plain": [
              "<Figure size 864x504 with 1 Axes>"
            ]
          },
          "metadata": {
            "tags": []
          }
        }
      ]
    },
    {
      "cell_type": "markdown",
      "metadata": {
        "id": "zqut0-tTBGHA",
        "colab_type": "text"
      },
      "source": [
        "=**2.6 (5 points)** Write a function **predict_on_batch** that outputs letter probabilities of all words in the batch."
      ]
    },
    {
      "cell_type": "code",
      "metadata": {
        "id": "iPgsBgl5BGHB",
        "colab_type": "code",
        "colab": {}
      },
      "source": [
        "import numpy as np \n",
        "import pandas as pd \n",
        "\n",
        "def predict_on_batch(loader, model, n=20):\n",
        "    hidden = model.init_hidden(batch_size=1)\n",
        "    probabilities = []\n",
        "    ii = 0\n",
        "    for x, y, lens in loader:\n",
        "        x = x.to(device)\n",
        "        y = y.to(device)\n",
        "        batch_size = x.shape[0]\n",
        "        model.eval()\n",
        "        scores = model.forward(x)[0].to(device='cpu').detach().numpy()\n",
        "        y = y.to(device='cpu')\n",
        "        score_e = np.exp(scores)\n",
        "        y_w = [vocab.idx2word(i) for i in y[0].detach().numpy()]\n",
        "        pred_w = [vocab.idx2word(i) for i in np.argmax(scores, axis=1)]\n",
        "        temp = []\n",
        "        for j in range(len(scores)):\n",
        "            temp.append(math.exp(scores[j, y[0,j]]))\n",
        "        probabilities.append((np.prod(temp),\n",
        "                             lens[0],\n",
        "                             1 / vocab.__len__()**lens[0]))\n",
        "        temp = np.round(temp, 2)\n",
        "        out_df = pd.DataFrame({i : [pred_w[i], y_w[i], temp[i]] for i,_ in enumerate(temp)})\n",
        "        if ii > len(loader)-1-n:\n",
        "            print('-'*70)\n",
        "            print(out_df)\n",
        "            print('\\nProbs: {}\\t word len: {}'.format(probabilities[-1][0],\n",
        "                                                                          probabilities[-1][1]))\n",
        "            print('-'*70)\n",
        "        ii += 1\n",
        "        pass"
      ],
      "execution_count": 0,
      "outputs": []
    },
    {
      "cell_type": "markdown",
      "metadata": {
        "id": "5P1jcDwLBGHE",
        "colab_type": "text"
      },
      "source": [
        "**2.7 (1 points)** Calculate the letter probabilities for all words in the test dataset. Print them for 20 last words. Do not forget to disable shuffling in the ``DataLoader``."
      ]
    },
    {
      "cell_type": "code",
      "metadata": {
        "id": "dsRfJhytBGHF",
        "colab_type": "code",
        "colab": {
          "base_uri": "https://localhost:8080/",
          "height": 1000
        },
        "outputId": "4db0142c-0fd9-4263-9b46-f90d2b812697"
      },
      "source": [
        "trainloader = DataLoader(train_dataset,\n",
        "                    batch_size=1,\n",
        "                    collate_fn=Padder(dim=0, pad_symbol=0), shuffle=False)\n",
        "predict_on_batch(loader=trainloader, model=model)"
      ],
      "execution_count": 169,
      "outputs": [
        {
          "output_type": "stream",
          "text": [
            "----------------------------------------------------------------------\n",
            "      0     1  2     3     4     5     6     7      8\n",
            "0     к     т  е     а     т     а     ы     й  <END>\n",
            "1     а     л  м     а     з     н     ы     й  <END>\n",
            "2  0.06  0.04  0  0.38  0.02  0.04  0.35  0.79   0.84\n",
            "\n",
            "Probs: 3.003575362002795e-10\t word len: 9\n",
            "----------------------------------------------------------------------\n",
            "----------------------------------------------------------------------\n",
            "      0     1     2     3  4     5    6     7      8\n",
            "0     к     ь     т     а  в     а    ы     т  <END>\n",
            "1     т     а     м     о  ш     н    и     й  <END>\n",
            "2  0.07  0.17  0.11  0.07  0  0.04  0.1  0.09   0.84\n",
            "\n",
            "Probs: 1.0570132673228715e-10\t word len: 9\n",
            "----------------------------------------------------------------------\n",
            "----------------------------------------------------------------------\n",
            "     0     1     2     3    4    5     6     7     8     9      10\n",
            "0     к     е     т     а    ы    т     а     в     а     й  <END>\n",
            "1     л     е     д     н    и    к     о     в     ы     й  <END>\n",
            "2  0.01  0.23  0.07  0.04  0.1  0.1  0.03  0.14  0.05  0.79   0.84\n",
            "\n",
            "Probs: 1.0037449271630871e-11\t word len: 11\n",
            "----------------------------------------------------------------------\n",
            "----------------------------------------------------------------------\n",
            "      0  1     2     3      4  5      6\n",
            "0     к  к     т     е  <END>  а  <END>\n",
            "1     с  е     л     ь      д  ь  <END>\n",
            "2  0.05  0  0.05  0.23      0  0   0.79\n",
            "\n",
            "Probs: 8.49772458661728e-14\t word len: 7\n",
            "----------------------------------------------------------------------\n",
            "----------------------------------------------------------------------\n",
            "     0     1     2     3      4     5     6     7      8     9      10\n",
            "0     к     к     ь     о  <END>     к     т     ь  <END>     к  <END>\n",
            "1     с     т     р     я      с     а     т     ь      с     я  <END>\n",
            "2  0.05  0.17  0.14  0.01   0.01  0.15  0.21  0.24   0.08  0.08   0.39\n",
            "\n",
            "Probs: 1.8244575130451676e-12\t word len: 11\n",
            "----------------------------------------------------------------------\n",
            "----------------------------------------------------------------------\n",
            "      0     1     2     3     4     5      6\n",
            "0     к     а     в     а     ы     й  <END>\n",
            "1     ч     у     д     н     ы     й  <END>\n",
            "2  0.03  0.01  0.05  0.04  0.35  0.79   0.84\n",
            "\n",
            "Probs: 1.5220992255899073e-07\t word len: 7\n",
            "----------------------------------------------------------------------\n",
            "----------------------------------------------------------------------\n",
            "      0     1  2  3     4     5     6     7     8      9\n",
            "0     к     а  т  а     в     к     ь     т     ь  <END>\n",
            "1     з     а  г  у     с     т     е     т     ь  <END>\n",
            "2  0.04  0.27  0  0  0.07  0.17  0.05  0.13  0.24   0.79\n",
            "\n",
            "Probs: 1.4949645580609508e-14\t word len: 10\n",
            "----------------------------------------------------------------------\n",
            "----------------------------------------------------------------------\n",
            "    0     1     2     3     4     5     6     7     8     9     10 11     12\n",
            "0    к     а     о     т     а     в     к     ь     т     о     т  а  <END>\n",
            "1    п     р     е     д     о     с     т     е     р     е     ч  ь  <END>\n",
            "2  0.1  0.15  0.15  0.07  0.12  0.07  0.17  0.05  0.06  0.15  0.06  0   0.79\n",
            "\n",
            "Probs: 1.0976927620374878e-14\t word len: 13\n",
            "----------------------------------------------------------------------\n",
            "----------------------------------------------------------------------\n",
            "      0     1     2  3     4     5     6     7      8\n",
            "0     к     к     т  ь     а     т     а     й  <END>\n",
            "1     с     и     т  ц     е     в     ы     й  <END>\n",
            "2  0.05  0.06  0.15  0  0.14  0.08  0.05  0.79   0.84\n",
            "\n",
            "Probs: 2.394869667658287e-11\t word len: 9\n",
            "----------------------------------------------------------------------\n",
            "----------------------------------------------------------------------\n",
            "    0     1     2     3     4     5  6     7     8     9      10\n",
            "0    к     а     в     а     а     т  о     а     т     ь  <END>\n",
            "1    п     о     д     в     е     р  г     а     т     ь  <END>\n",
            "2  0.1  0.18  0.05  0.03  0.14  0.06  0  0.21  0.21  0.24   0.79\n",
            "\n",
            "Probs: 4.880817205851622e-13\t word len: 11\n",
            "----------------------------------------------------------------------\n",
            "----------------------------------------------------------------------\n",
            "      0     1     2     3     4     5      6\n",
            "0     к     а     в     о     а     т  <END>\n",
            "1     г     о     р     ш     и     й  <END>\n",
            "2  0.05  0.18  0.08  0.01  0.15  0.09   0.84\n",
            "\n",
            "Probs: 5.973974119703574e-08\t word len: 7\n",
            "----------------------------------------------------------------------\n",
            "----------------------------------------------------------------------\n",
            "      0     1     2     3     4      5\n",
            "0     к     а     т     о     т  <END>\n",
            "1     к     а     р     и     й  <END>\n",
            "2  0.11  0.56  0.05  0.13  0.09   0.84\n",
            "\n",
            "Probs: 3.0792412531266294e-05\t word len: 6\n",
            "----------------------------------------------------------------------\n",
            "----------------------------------------------------------------------\n",
            "      0  1     2     3     4     5     6     7      8\n",
            "0     к  т     в     о     в     к     ь     т      ь\n",
            "1     а  э     р     о     с     т     а     т  <END>\n",
            "2  0.06  0  0.08  0.21  0.07  0.17  0.17  0.21   0.07\n",
            "\n",
            "Probs: 3.115739626362702e-13\t word len: 9\n",
            "----------------------------------------------------------------------\n",
            "----------------------------------------------------------------------\n",
            "     0     1     2     3     4     5     6     7     8     9     10     11\n",
            "0     к     в     ь     к     о     в     а     т     а     т     ь  <END>\n",
            "1     о     т     с     р     о     ч     и     в     а     т     ь  <END>\n",
            "2  0.07  0.08  0.02  0.04  0.21  0.06  0.15  0.13  0.27  0.21  0.24   0.79\n",
            "\n",
            "Probs: 1.2179065324495101e-11\t word len: 12\n",
            "----------------------------------------------------------------------\n",
            "----------------------------------------------------------------------\n",
            "      0     1     2     3    4     5     6     7     8      9\n",
            "0     к     т     о     в    ы     т     а     ы     й  <END>\n",
            "1     и     р     о     н    и     ч     н     ы     й  <END>\n",
            "2  0.02  0.04  0.21  0.05  0.1  0.06  0.04  0.35  0.79   0.84\n",
            "\n",
            "Probs: 5.690727605916383e-10\t word len: 10\n",
            "----------------------------------------------------------------------\n",
            "----------------------------------------------------------------------\n",
            "     0      1     2     3  4     5     6  7     8     9     10     11\n",
            "0     к  <END>     в     о  а     а     т  о     к     а     т  <END>\n",
            "1     й      о     р     к  ш     и     р  с     к     и     й  <END>\n",
            "2  0.01      0  0.08  0.02  0  0.15  0.04  0  0.18  0.05  0.09   0.84\n",
            "\n",
            "Probs: 2.354301468309477e-23\t word len: 12\n",
            "----------------------------------------------------------------------\n",
            "----------------------------------------------------------------------\n",
            "      0     1  2     3     4    5     6    7    8      9\n",
            "0     к     т  а     а     ы    т     ы    ы    т      а\n",
            "1     и     з  г     н     а    н     н    и    к  <END>\n",
            "2  0.02  0.02  0  0.02  0.04  0.1  0.03  0.1  0.1   0.04\n",
            "\n",
            "Probs: 2.2419147575388376e-17\t word len: 10\n",
            "----------------------------------------------------------------------\n",
            "----------------------------------------------------------------------\n",
            "     0     1     2     3     4     5   ...    7     8     9     10    11     12\n",
            "0     к     а     в     а     в     о  ...     а     т     ы     ы     й  <END>\n",
            "1     д     о     м     о     р     о  ...     е     н     н     ы     й  <END>\n",
            "2  0.02  0.12  0.02  0.07  0.08  0.21  ...  0.15  0.11  0.03  0.35  0.79   0.84\n",
            "\n",
            "[3 rows x 13 columns]\n",
            "\n",
            "Probs: 3.0140878972323135e-14\t word len: 13\n",
            "----------------------------------------------------------------------\n",
            "----------------------------------------------------------------------\n",
            "      0     1     2     3     4     5     6     7      8\n",
            "0     к     ы     т     а     ы     в     а     т  <END>\n",
            "1     н     е     м     н     о     г     и     й  <END>\n",
            "2  0.04  0.07  0.03  0.03  0.13  0.01  0.13  0.09   0.84\n",
            "\n",
            "Probs: 4.16118831868601e-11\t word len: 9\n",
            "----------------------------------------------------------------------\n",
            "----------------------------------------------------------------------\n",
            "  0     1     2     3     4  5   ...    8     9      10    11    12     13\n",
            "0  к     в     а     в     а  т  ...     т     е  <END>     ы     й  <END>\n",
            "1  э     м     о     ц     и  о  ...     л     ь      н     ы     й  <END>\n",
            "2  0  0.02  0.07  0.01  0.16  0  ...  0.04  0.23   0.11  0.35  0.79   0.84\n",
            "\n",
            "[3 rows x 14 columns]\n",
            "\n",
            "Probs: 5.476867984200553e-22\t word len: 14\n",
            "----------------------------------------------------------------------\n"
          ],
          "name": "stdout"
        }
      ]
    },
    {
      "cell_type": "code",
      "metadata": {
        "id": "UtE1h44506VO",
        "colab_type": "code",
        "colab": {}
      },
      "source": [
        ""
      ],
      "execution_count": 0,
      "outputs": []
    },
    {
      "cell_type": "markdown",
      "metadata": {
        "id": "Wdll2ayMBGHJ",
        "colab_type": "text"
      },
      "source": [
        "**2.8 (5 points)** Write a function that generates a single word (sequence of indexes) given the model. Do not forget about the hidden state! Be careful about start and end symbol indexes. Use ``torch.multinomial`` for sampling."
      ]
    },
    {
      "cell_type": "code",
      "metadata": {
        "id": "Me4WHjNjBGHK",
        "colab_type": "code",
        "colab": {}
      },
      "source": [
        "def generate(model, max_length=20, start_index=1, end_index=2):\n",
        "    \"\"\"\n",
        "    == YOUR CODE HERE ==\n",
        "    \"\"\""
      ],
      "execution_count": 0,
      "outputs": []
    },
    {
      "cell_type": "markdown",
      "metadata": {
        "id": "PS6rYQLbBGHN",
        "colab_type": "text"
      },
      "source": [
        "**2.9 (1 points)** Use ``generate`` to sample 20 pseudowords. Do not forget to transform indexes to letters."
      ]
    },
    {
      "cell_type": "code",
      "metadata": {
        "id": "42At-qHgBGHO",
        "colab_type": "code",
        "colab": {}
      },
      "source": [
        "for i in range(20):\n",
        "    \"\"\"\n",
        "    == YOUR CODE HERE ==\n",
        "    \"\"\""
      ],
      "execution_count": 0,
      "outputs": []
    },
    {
      "cell_type": "markdown",
      "metadata": {
        "id": "hKNtcMi9BGHS",
        "colab_type": "text"
      },
      "source": [
        "**(2.10) 5 points** Write a batched version of the generation function. You should sample the following symbol only for the words that are not finished yet, so apply a boolean mask to trace active words."
      ]
    },
    {
      "cell_type": "code",
      "metadata": {
        "id": "0pX8m3JoBGHT",
        "colab_type": "code",
        "colab": {}
      },
      "source": [
        "def generate_batch(model, batch_size, max_length = 20, start_index=1, end_index=2):\n",
        "    \"\"\"\n",
        "    == YOUR CODE HERE ==\n",
        "    \"\"\""
      ],
      "execution_count": 0,
      "outputs": []
    },
    {
      "cell_type": "code",
      "metadata": {
        "id": "m0QdG4hVBGHV",
        "colab_type": "code",
        "colab": {}
      },
      "source": [
        "generated = []\n",
        "for _ in range(2):\n",
        "    generated += generate_batch(model, batch_size=10)\n",
        "\"\"\"\n",
        "== YOUR CODE HERE ==\n",
        "\"\"\"\n",
        "for elem in transformed:\n",
        "    print(\"\".join(elem))"
      ],
      "execution_count": 0,
      "outputs": []
    },
    {
      "cell_type": "markdown",
      "metadata": {
        "id": "uXz5JmTtBGHY",
        "colab_type": "text"
      },
      "source": [
        "**(2.11) 5 points** Experiment with the type of RNN, number of layers, units and/or dropout to improve the perplexity of the model."
      ]
    },
    {
      "cell_type": "code",
      "metadata": {
        "id": "NaHSMq2-BGHZ",
        "colab_type": "code",
        "colab": {}
      },
      "source": [
        ""
      ],
      "execution_count": 0,
      "outputs": []
    }
  ]
}